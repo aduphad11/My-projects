{
  "nbformat": 4,
  "nbformat_minor": 0,
  "metadata": {
    "colab": {
      "name": "google_jobs.ipynb",
      "provenance": [],
      "authorship_tag": "ABX9TyPne6lkB4hbyO6fx3quZpQo",
      "include_colab_link": true
    },
    "kernelspec": {
      "name": "python3",
      "display_name": "Python 3"
    }
  },
  "cells": [
    {
      "cell_type": "markdown",
      "metadata": {
        "id": "view-in-github",
        "colab_type": "text"
      },
      "source": [
        "<a href=\"https://colab.research.google.com/github/aduphad11/My-projects/blob/master/google_jobs.ipynb\" target=\"_parent\"><img src=\"https://colab.research.google.com/assets/colab-badge.svg\" alt=\"Open In Colab\"/></a>"
      ]
    },
    {
      "cell_type": "markdown",
      "metadata": {
        "id": "cU3RZYG84p3x",
        "colab_type": "text"
      },
      "source": [
        "**Get a job in Google!**\n",
        "\n",
        "Google is one of my dream company. I believe lots of data scientists want to join Google, just like me. However, people might wonder what I need to acquire to be qualified to work in Google. I create this kernel to answer this question. And hope you enjoy!\n",
        "\n",
        "Outline\n",
        "Data Cleaning\n",
        "Exploratory\n",
        "Functions\n",
        "\n",
        "Positions\n",
        "1. Analyst\n",
        "    1.1 Languages and Degrees\n",
        "2. Developer\n",
        "    2.1 Languages and Degrees\n",
        "3. MBA intern\n",
        "    3.1 Languages and Degrees\n",
        "4. Sales\n",
        "    4.1 Languages and Degrees\n",
        "\n",
        "Tools\n",
        "5. Microsoft Office\n",
        "6. Data Visualization Tools\n",
        "7. Statistical Analsis Tools\n",
        "\n",
        "Positions Distribution\n",
        "8. Jobs in the US\n",
        "9. The so-called PMs\n",
        "10. Pivot table\n",
        "\n",
        "Job Recommendation\n",
        "11. Similar Jobs\n",
        "\n",
        "Conclusion\n",
        "New Work"
      ]
    },
    {
      "cell_type": "code",
      "metadata": {
        "id": "4I2BgHF35CPg",
        "colab_type": "code",
        "colab": {
          "base_uri": "https://localhost:8080/",
          "height": 71
        },
        "outputId": "1bd871bb-55b5-4b1e-e55b-09abb35d563e"
      },
      "source": [
        "import numpy as np\n",
        "import pandas as pd\n",
        "import matplotlib.pyplot as plt\n",
        "%matplotlib inline\n",
        "import seaborn as sns\n",
        "plt.style.use('ggplot')"
      ],
      "execution_count": 1,
      "outputs": [
        {
          "output_type": "stream",
          "text": [
            "/usr/local/lib/python3.6/dist-packages/statsmodels/tools/_testing.py:19: FutureWarning: pandas.util.testing is deprecated. Use the functions in the public API at pandas.testing instead.\n",
            "  import pandas.util.testing as tm\n"
          ],
          "name": "stderr"
        }
      ]
    },
    {
      "cell_type": "code",
      "metadata": {
        "id": "0HtQxnqV5GBc",
        "colab_type": "code",
        "colab": {
          "resources": {
            "http://localhost:8080/nbextensions/google.colab/files.js": {
              "data": "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",
              "ok": true,
              "headers": [
                [
                  "content-type",
                  "application/javascript"
                ]
              ],
              "status": 200,
              "status_text": ""
            }
          },
          "base_uri": "https://localhost:8080/",
          "height": 72
        },
        "outputId": "cf17a08c-c59e-4523-8aa7-1fa973190e83"
      },
      "source": [
        "from google.colab import files\n",
        "uploaded = files.upload()\n"
      ],
      "execution_count": 6,
      "outputs": [
        {
          "output_type": "display_data",
          "data": {
            "text/html": [
              "\n",
              "     <input type=\"file\" id=\"files-2c29e0df-969d-4b4b-bb4c-45ed88f2d9e4\" name=\"files[]\" multiple disabled\n",
              "        style=\"border:none\" />\n",
              "     <output id=\"result-2c29e0df-969d-4b4b-bb4c-45ed88f2d9e4\">\n",
              "      Upload widget is only available when the cell has been executed in the\n",
              "      current browser session. Please rerun this cell to enable.\n",
              "      </output>\n",
              "      <script src=\"/nbextensions/google.colab/files.js\"></script> "
            ],
            "text/plain": [
              "<IPython.core.display.HTML object>"
            ]
          },
          "metadata": {
            "tags": []
          }
        },
        {
          "output_type": "stream",
          "text": [
            "Saving job_skills.csv to job_skills.csv\n"
          ],
          "name": "stdout"
        }
      ]
    },
    {
      "cell_type": "code",
      "metadata": {
        "id": "Fg6hQkLC58Ol",
        "colab_type": "code",
        "colab": {}
      },
      "source": [
        "import io\n",
        "df = pd.read_csv(io.BytesIO(uploaded['job_skills.csv']))\n",
        "# Dataset is now stored in a Pandas Dataframe"
      ],
      "execution_count": 9,
      "outputs": []
    },
    {
      "cell_type": "code",
      "metadata": {
        "id": "vpdeJvW_6ZGT",
        "colab_type": "code",
        "colab": {
          "base_uri": "https://localhost:8080/",
          "height": 289
        },
        "outputId": "095c2283-a63a-43a8-890f-4ca002564cde"
      },
      "source": [
        "df.head()"
      ],
      "execution_count": 10,
      "outputs": [
        {
          "output_type": "execute_result",
          "data": {
            "text/html": [
              "<div>\n",
              "<style scoped>\n",
              "    .dataframe tbody tr th:only-of-type {\n",
              "        vertical-align: middle;\n",
              "    }\n",
              "\n",
              "    .dataframe tbody tr th {\n",
              "        vertical-align: top;\n",
              "    }\n",
              "\n",
              "    .dataframe thead th {\n",
              "        text-align: right;\n",
              "    }\n",
              "</style>\n",
              "<table border=\"1\" class=\"dataframe\">\n",
              "  <thead>\n",
              "    <tr style=\"text-align: right;\">\n",
              "      <th></th>\n",
              "      <th>Company</th>\n",
              "      <th>Title</th>\n",
              "      <th>Category</th>\n",
              "      <th>Location</th>\n",
              "      <th>Responsibilities</th>\n",
              "      <th>Minimum Qualifications</th>\n",
              "      <th>Preferred Qualifications</th>\n",
              "    </tr>\n",
              "  </thead>\n",
              "  <tbody>\n",
              "    <tr>\n",
              "      <th>0</th>\n",
              "      <td>Google</td>\n",
              "      <td>Google Cloud Program Manager</td>\n",
              "      <td>Program Management</td>\n",
              "      <td>Singapore</td>\n",
              "      <td>Shape, shepherd, ship, and show technical prog...</td>\n",
              "      <td>BA/BS degree or equivalent practical experienc...</td>\n",
              "      <td>Experience in the business technology market a...</td>\n",
              "    </tr>\n",
              "    <tr>\n",
              "      <th>1</th>\n",
              "      <td>Google</td>\n",
              "      <td>Supplier Development Engineer (SDE), Cable/Con...</td>\n",
              "      <td>Manufacturing &amp; Supply Chain</td>\n",
              "      <td>Shanghai, China</td>\n",
              "      <td>Drive cross-functional activities in the suppl...</td>\n",
              "      <td>BS degree in an Engineering discipline or equi...</td>\n",
              "      <td>BSEE, BSME or BSIE degree.\\nExperience of usin...</td>\n",
              "    </tr>\n",
              "    <tr>\n",
              "      <th>2</th>\n",
              "      <td>Google</td>\n",
              "      <td>Data Analyst, Product and Tools Operations, Go...</td>\n",
              "      <td>Technical Solutions</td>\n",
              "      <td>New York, NY, United States</td>\n",
              "      <td>Collect and analyze data to draw insight and i...</td>\n",
              "      <td>Bachelor’s degree in Business, Economics, Stat...</td>\n",
              "      <td>Experience partnering or consulting cross-func...</td>\n",
              "    </tr>\n",
              "    <tr>\n",
              "      <th>3</th>\n",
              "      <td>Google</td>\n",
              "      <td>Developer Advocate, Partner Engineering</td>\n",
              "      <td>Developer Relations</td>\n",
              "      <td>Mountain View, CA, United States</td>\n",
              "      <td>Work one-on-one with the top Android, iOS, and...</td>\n",
              "      <td>BA/BS degree in Computer Science or equivalent...</td>\n",
              "      <td>Experience as a software developer, architect,...</td>\n",
              "    </tr>\n",
              "    <tr>\n",
              "      <th>4</th>\n",
              "      <td>Google</td>\n",
              "      <td>Program Manager, Audio Visual (AV) Deployments</td>\n",
              "      <td>Program Management</td>\n",
              "      <td>Sunnyvale, CA, United States</td>\n",
              "      <td>Plan requirements with internal customers.\\nPr...</td>\n",
              "      <td>BA/BS degree or equivalent practical experienc...</td>\n",
              "      <td>CTS Certification.\\nExperience in the construc...</td>\n",
              "    </tr>\n",
              "  </tbody>\n",
              "</table>\n",
              "</div>"
            ],
            "text/plain": [
              "  Company  ...                           Preferred Qualifications\n",
              "0  Google  ...  Experience in the business technology market a...\n",
              "1  Google  ...  BSEE, BSME or BSIE degree.\\nExperience of usin...\n",
              "2  Google  ...  Experience partnering or consulting cross-func...\n",
              "3  Google  ...  Experience as a software developer, architect,...\n",
              "4  Google  ...  CTS Certification.\\nExperience in the construc...\n",
              "\n",
              "[5 rows x 7 columns]"
            ]
          },
          "metadata": {
            "tags": []
          },
          "execution_count": 10
        }
      ]
    },
    {
      "cell_type": "markdown",
      "metadata": {
        "id": "Vm9f_7In7Apr",
        "colab_type": "text"
      },
      "source": [
        "**Data Cleaning**"
      ]
    },
    {
      "cell_type": "code",
      "metadata": {
        "id": "x9OUkAKk5Pm3",
        "colab_type": "code",
        "colab": {}
      },
      "source": [
        "df = df.rename(columns={'Minimum Qualifications': 'Minimum_Qualifications', 'Preferred Qualifications': 'Preferred_Qualifications'})"
      ],
      "execution_count": 11,
      "outputs": []
    },
    {
      "cell_type": "markdown",
      "metadata": {
        "id": "6vMvUFz17Pt2",
        "colab_type": "text"
      },
      "source": [
        "The colunm name is modified as df.colunm name convention can be easily used."
      ]
    },
    {
      "cell_type": "markdown",
      "metadata": {
        "id": "eSNRbMy67fSr",
        "colab_type": "text"
      },
      "source": [
        "Checking if there are any NaN in the data"
      ]
    },
    {
      "cell_type": "code",
      "metadata": {
        "id": "wIO_j6-8OJqY",
        "colab_type": "code",
        "colab": {}
      },
      "source": [
        "df = df.dropna(how='any',axis='rows')"
      ],
      "execution_count": 38,
      "outputs": []
    },
    {
      "cell_type": "code",
      "metadata": {
        "id": "X8Je2pqr7kal",
        "colab_type": "code",
        "colab": {
          "base_uri": "https://localhost:8080/",
          "height": 153
        },
        "outputId": "10ec4880-4d59-48bd-bb5e-44ed5df80180"
      },
      "source": [
        "pd.isnull(df).sum()"
      ],
      "execution_count": 12,
      "outputs": [
        {
          "output_type": "execute_result",
          "data": {
            "text/plain": [
              "Company                      0\n",
              "Title                        0\n",
              "Category                     0\n",
              "Location                     0\n",
              "Responsibilities            15\n",
              "Minimum_Qualifications      14\n",
              "Preferred_Qualifications    14\n",
              "dtype: int64"
            ]
          },
          "metadata": {
            "tags": []
          },
          "execution_count": 12
        }
      ]
    },
    {
      "cell_type": "markdown",
      "metadata": {
        "id": "vFQnPpYw7rk5",
        "colab_type": "text"
      },
      "source": [
        "Straight away dropping the rows with NaN"
      ]
    },
    {
      "cell_type": "code",
      "metadata": {
        "id": "Kh-tDCXz7w6S",
        "colab_type": "code",
        "colab": {
          "base_uri": "https://localhost:8080/",
          "height": 68
        },
        "outputId": "8ffabba1-af26-46cc-d95b-c1e644362f15"
      },
      "source": [
        "df.Company.value_counts()"
      ],
      "execution_count": 13,
      "outputs": [
        {
          "output_type": "execute_result",
          "data": {
            "text/plain": [
              "Google     1227\n",
              "YouTube      23\n",
              "Name: Company, dtype: int64"
            ]
          },
          "metadata": {
            "tags": []
          },
          "execution_count": 13
        }
      ]
    },
    {
      "cell_type": "code",
      "metadata": {
        "id": "75W7zGW_7OLz",
        "colab_type": "code",
        "colab": {}
      },
      "source": [
        "#dropping off YouTube, considering only Google data.\n",
        "df=df[df.Company != 'YouTube']"
      ],
      "execution_count": 14,
      "outputs": []
    },
    {
      "cell_type": "code",
      "metadata": {
        "id": "ZOAdd1qG9F3K",
        "colab_type": "code",
        "colab": {
          "base_uri": "https://localhost:8080/",
          "height": 204
        },
        "outputId": "fa9e48f0-c213-4a2f-f707-b8f82779957d"
      },
      "source": [
        "df.Location.value_counts()[:10]"
      ],
      "execution_count": 15,
      "outputs": [
        {
          "output_type": "execute_result",
          "data": {
            "text/plain": [
              "Mountain View, CA, United States    190\n",
              "Sunnyvale, CA, United States        155\n",
              "Dublin, Ireland                      87\n",
              "New York, NY, United States          68\n",
              "London, United Kingdom               61\n",
              "San Francisco, CA, United States     49\n",
              "Singapore                            39\n",
              "Tokyo, Japan                         31\n",
              "Sydney, Australia                    31\n",
              "Seattle, WA, United States           27\n",
              "Name: Location, dtype: int64"
            ]
          },
          "metadata": {
            "tags": []
          },
          "execution_count": 15
        }
      ]
    },
    {
      "cell_type": "code",
      "metadata": {
        "id": "O6AzV0OI9KZ9",
        "colab_type": "code",
        "colab": {}
      },
      "source": [
        "df['Country'] = df['Location'].apply(lambda x : x.split(',')[-1])"
      ],
      "execution_count": 16,
      "outputs": []
    },
    {
      "cell_type": "code",
      "metadata": {
        "id": "68I89FGG9RhU",
        "colab_type": "code",
        "colab": {
          "base_uri": "https://localhost:8080/",
          "height": 289
        },
        "outputId": "abc15afc-9d3b-4577-a859-06e95cf5f192"
      },
      "source": [
        "df.Country.value_counts()[:15]"
      ],
      "execution_count": 17,
      "outputs": [
        {
          "output_type": "execute_result",
          "data": {
            "text/plain": [
              " United States     621\n",
              " Ireland            87\n",
              " United Kingdom     61\n",
              " Germany            54\n",
              "Singapore           39\n",
              " China              38\n",
              " Australia          35\n",
              " Japan              31\n",
              " Taiwan             30\n",
              " India              27\n",
              " Switzerland        22\n",
              " France             20\n",
              " Brazil             15\n",
              " Israel             11\n",
              " Poland             11\n",
              "Name: Country, dtype: int64"
            ]
          },
          "metadata": {
            "tags": []
          },
          "execution_count": 17
        }
      ]
    },
    {
      "cell_type": "code",
      "metadata": {
        "id": "cD6GFHMgOg2O",
        "colab_type": "code",
        "colab": {
          "base_uri": "https://localhost:8080/",
          "height": 1000
        },
        "outputId": "df88c13a-78a6-402a-e911-19ae81af6ecc"
      },
      "source": [
        "from nltk.corpus import stopwords \n",
        "from nltk.tokenize import word_tokenize \n",
        "\n",
        "stop_words = set(stopwords.words('english')) \n",
        "\n",
        "df['Responsibilities'] = df.Responsibilities.apply(lambda x: word_tokenize(x))\n",
        "df['Responsibilities'] = df.Responsibilities.apply(lambda x: [w for w in x if w not in stop_words])\n",
        "df['Responsibilities'] = df.Responsibilities.apply(lambda x: ' '.join(x))\n",
        "\n",
        "df['Minimum_Qualifications'] = df.Minimum_Qualifications.apply(lambda x: word_tokenize(x))\n",
        "df['Minimum_Qualifications'] = df.Minimum_Qualifications.apply(lambda x: [w for w in x if w not in stop_words])\n",
        "df['Minimum_Qualifications'] = df.Minimum_Qualifications.apply(lambda x: ' '.join(x))\n",
        "\n",
        "df['Preferred_Qualifications'] = df.Preferred_Qualifications.apply(lambda x: word_tokenize(x))\n",
        "df['Preferred_Qualifications'] = df.Preferred_Qualifications.apply(lambda x: [w for w in x if w not in stop_words])\n",
        "df['Preferred_Qualifications'] = df.Preferred_Qualifications.apply(lambda x: ' '.join(x))\n",
        "# The way to extract year refer to https://www.kaggle.com/niyamatalmass/what-you-need-to-get-a-job-at-google.\n",
        "# Thanks Niyamat Ullah for such brilliant way. Go check his kernel. It's great!\n",
        "import re\n",
        "df['Minimum_years_experience'] = df['Minimum_Qualifications'].apply(lambda x : re.findall(r'([0-9]+) year',x))\n",
        "# Fill empty list with [0]\n",
        "df['Minimum_years_experience'] = df['Minimum_years_experience'].apply(lambda y : [0] if len(y)==0 else y)\n",
        "#Then extract maximum in the list to have the work experience requirement\n",
        "df['Minimum_years_experience'] = df['Minimum_years_experience'].apply(lambda z : max(z))\n",
        "df['Minimum_years_experience'] = df.Minimum_years_experience.astype(int)"
      ],
      "execution_count": 40,
      "outputs": [
        {
          "output_type": "stream",
          "text": [
            "/usr/local/lib/python3.6/dist-packages/ipykernel_launcher.py:6: SettingWithCopyWarning: \n",
            "A value is trying to be set on a copy of a slice from a DataFrame.\n",
            "Try using .loc[row_indexer,col_indexer] = value instead\n",
            "\n",
            "See the caveats in the documentation: https://pandas.pydata.org/pandas-docs/stable/user_guide/indexing.html#returning-a-view-versus-a-copy\n",
            "  \n",
            "/usr/local/lib/python3.6/dist-packages/ipykernel_launcher.py:7: SettingWithCopyWarning: \n",
            "A value is trying to be set on a copy of a slice from a DataFrame.\n",
            "Try using .loc[row_indexer,col_indexer] = value instead\n",
            "\n",
            "See the caveats in the documentation: https://pandas.pydata.org/pandas-docs/stable/user_guide/indexing.html#returning-a-view-versus-a-copy\n",
            "  import sys\n",
            "/usr/local/lib/python3.6/dist-packages/ipykernel_launcher.py:8: SettingWithCopyWarning: \n",
            "A value is trying to be set on a copy of a slice from a DataFrame.\n",
            "Try using .loc[row_indexer,col_indexer] = value instead\n",
            "\n",
            "See the caveats in the documentation: https://pandas.pydata.org/pandas-docs/stable/user_guide/indexing.html#returning-a-view-versus-a-copy\n",
            "  \n",
            "/usr/local/lib/python3.6/dist-packages/ipykernel_launcher.py:10: SettingWithCopyWarning: \n",
            "A value is trying to be set on a copy of a slice from a DataFrame.\n",
            "Try using .loc[row_indexer,col_indexer] = value instead\n",
            "\n",
            "See the caveats in the documentation: https://pandas.pydata.org/pandas-docs/stable/user_guide/indexing.html#returning-a-view-versus-a-copy\n",
            "  # Remove the CWD from sys.path while we load stuff.\n",
            "/usr/local/lib/python3.6/dist-packages/ipykernel_launcher.py:11: SettingWithCopyWarning: \n",
            "A value is trying to be set on a copy of a slice from a DataFrame.\n",
            "Try using .loc[row_indexer,col_indexer] = value instead\n",
            "\n",
            "See the caveats in the documentation: https://pandas.pydata.org/pandas-docs/stable/user_guide/indexing.html#returning-a-view-versus-a-copy\n",
            "  # This is added back by InteractiveShellApp.init_path()\n",
            "/usr/local/lib/python3.6/dist-packages/ipykernel_launcher.py:12: SettingWithCopyWarning: \n",
            "A value is trying to be set on a copy of a slice from a DataFrame.\n",
            "Try using .loc[row_indexer,col_indexer] = value instead\n",
            "\n",
            "See the caveats in the documentation: https://pandas.pydata.org/pandas-docs/stable/user_guide/indexing.html#returning-a-view-versus-a-copy\n",
            "  if sys.path[0] == '':\n",
            "/usr/local/lib/python3.6/dist-packages/ipykernel_launcher.py:14: SettingWithCopyWarning: \n",
            "A value is trying to be set on a copy of a slice from a DataFrame.\n",
            "Try using .loc[row_indexer,col_indexer] = value instead\n",
            "\n",
            "See the caveats in the documentation: https://pandas.pydata.org/pandas-docs/stable/user_guide/indexing.html#returning-a-view-versus-a-copy\n",
            "  \n",
            "/usr/local/lib/python3.6/dist-packages/ipykernel_launcher.py:15: SettingWithCopyWarning: \n",
            "A value is trying to be set on a copy of a slice from a DataFrame.\n",
            "Try using .loc[row_indexer,col_indexer] = value instead\n",
            "\n",
            "See the caveats in the documentation: https://pandas.pydata.org/pandas-docs/stable/user_guide/indexing.html#returning-a-view-versus-a-copy\n",
            "  from ipykernel import kernelapp as app\n",
            "/usr/local/lib/python3.6/dist-packages/ipykernel_launcher.py:16: SettingWithCopyWarning: \n",
            "A value is trying to be set on a copy of a slice from a DataFrame.\n",
            "Try using .loc[row_indexer,col_indexer] = value instead\n",
            "\n",
            "See the caveats in the documentation: https://pandas.pydata.org/pandas-docs/stable/user_guide/indexing.html#returning-a-view-versus-a-copy\n",
            "  app.launch_new_instance()\n",
            "/usr/local/lib/python3.6/dist-packages/ipykernel_launcher.py:20: SettingWithCopyWarning: \n",
            "A value is trying to be set on a copy of a slice from a DataFrame.\n",
            "Try using .loc[row_indexer,col_indexer] = value instead\n",
            "\n",
            "See the caveats in the documentation: https://pandas.pydata.org/pandas-docs/stable/user_guide/indexing.html#returning-a-view-versus-a-copy\n",
            "/usr/local/lib/python3.6/dist-packages/ipykernel_launcher.py:22: SettingWithCopyWarning: \n",
            "A value is trying to be set on a copy of a slice from a DataFrame.\n",
            "Try using .loc[row_indexer,col_indexer] = value instead\n",
            "\n",
            "See the caveats in the documentation: https://pandas.pydata.org/pandas-docs/stable/user_guide/indexing.html#returning-a-view-versus-a-copy\n",
            "/usr/local/lib/python3.6/dist-packages/ipykernel_launcher.py:24: SettingWithCopyWarning: \n",
            "A value is trying to be set on a copy of a slice from a DataFrame.\n",
            "Try using .loc[row_indexer,col_indexer] = value instead\n",
            "\n",
            "See the caveats in the documentation: https://pandas.pydata.org/pandas-docs/stable/user_guide/indexing.html#returning-a-view-versus-a-copy\n",
            "/usr/local/lib/python3.6/dist-packages/ipykernel_launcher.py:25: SettingWithCopyWarning: \n",
            "A value is trying to be set on a copy of a slice from a DataFrame.\n",
            "Try using .loc[row_indexer,col_indexer] = value instead\n",
            "\n",
            "See the caveats in the documentation: https://pandas.pydata.org/pandas-docs/stable/user_guide/indexing.html#returning-a-view-versus-a-copy\n"
          ],
          "name": "stderr"
        }
      ]
    },
    {
      "cell_type": "code",
      "metadata": {
        "id": "1fXugkrTMdbi",
        "colab_type": "code",
        "colab": {
          "base_uri": "https://localhost:8080/",
          "height": 445
        },
        "outputId": "309ba27b-43be-4c60-ac81-34cd15af5a05"
      },
      "source": [
        "import re\n",
        "df['Minimum_years_experience'] = df['Minimum_Qualifications'].apply(lambda x : re.findall(r'([0-9]+) year',x))\n",
        "# Fill empty list with [0]\n",
        "df['Minimum_years_experience'] = df['Minimum_years_experience'].apply(lambda y : [0] if len(y)==0 else y)\n",
        "#Then extract maximum in the list to have the work experience requirement\n",
        "df['Minimum_years_experience'] = df['Minimum_years_experience'].apply(lambda z : max(z))\n",
        "df['Minimum_years_experience'] = df.Minimum_years_experience.astype(int)"
      ],
      "execution_count": 39,
      "outputs": [
        {
          "output_type": "stream",
          "text": [
            "/usr/local/lib/python3.6/dist-packages/ipykernel_launcher.py:2: SettingWithCopyWarning: \n",
            "A value is trying to be set on a copy of a slice from a DataFrame.\n",
            "Try using .loc[row_indexer,col_indexer] = value instead\n",
            "\n",
            "See the caveats in the documentation: https://pandas.pydata.org/pandas-docs/stable/user_guide/indexing.html#returning-a-view-versus-a-copy\n",
            "  \n",
            "/usr/local/lib/python3.6/dist-packages/ipykernel_launcher.py:4: SettingWithCopyWarning: \n",
            "A value is trying to be set on a copy of a slice from a DataFrame.\n",
            "Try using .loc[row_indexer,col_indexer] = value instead\n",
            "\n",
            "See the caveats in the documentation: https://pandas.pydata.org/pandas-docs/stable/user_guide/indexing.html#returning-a-view-versus-a-copy\n",
            "  after removing the cwd from sys.path.\n",
            "/usr/local/lib/python3.6/dist-packages/ipykernel_launcher.py:6: SettingWithCopyWarning: \n",
            "A value is trying to be set on a copy of a slice from a DataFrame.\n",
            "Try using .loc[row_indexer,col_indexer] = value instead\n",
            "\n",
            "See the caveats in the documentation: https://pandas.pydata.org/pandas-docs/stable/user_guide/indexing.html#returning-a-view-versus-a-copy\n",
            "  \n",
            "/usr/local/lib/python3.6/dist-packages/ipykernel_launcher.py:7: SettingWithCopyWarning: \n",
            "A value is trying to be set on a copy of a slice from a DataFrame.\n",
            "Try using .loc[row_indexer,col_indexer] = value instead\n",
            "\n",
            "See the caveats in the documentation: https://pandas.pydata.org/pandas-docs/stable/user_guide/indexing.html#returning-a-view-versus-a-copy\n",
            "  import sys\n"
          ],
          "name": "stderr"
        }
      ]
    },
    {
      "cell_type": "markdown",
      "metadata": {
        "id": "aEZXWAfh9XNF",
        "colab_type": "text"
      },
      "source": [
        "Trying to extract the year of work experience in each position."
      ]
    },
    {
      "cell_type": "code",
      "metadata": {
        "id": "jLG0E0jbAHub",
        "colab_type": "code",
        "colab": {
          "base_uri": "https://localhost:8080/",
          "height": 187
        },
        "outputId": "c7fcb98b-c2d7-4047-da16-1c2ea683fae4"
      },
      "source": [
        "!pip install -q wordcloud\n",
        "import wordcloud\n",
        "\n",
        "import nltk\n",
        "nltk.download('stopwords')\n",
        "nltk.download('wordnet')\n",
        "nltk.download('punkt')\n",
        "nltk.download('averaged_perceptron_tagger') "
      ],
      "execution_count": 21,
      "outputs": [
        {
          "output_type": "stream",
          "text": [
            "[nltk_data] Downloading package stopwords to /root/nltk_data...\n",
            "[nltk_data]   Unzipping corpora/stopwords.zip.\n",
            "[nltk_data] Downloading package wordnet to /root/nltk_data...\n",
            "[nltk_data]   Unzipping corpora/wordnet.zip.\n",
            "[nltk_data] Downloading package punkt to /root/nltk_data...\n",
            "[nltk_data]   Unzipping tokenizers/punkt.zip.\n",
            "[nltk_data] Downloading package averaged_perceptron_tagger to\n",
            "[nltk_data]     /root/nltk_data...\n",
            "[nltk_data]   Unzipping taggers/averaged_perceptron_tagger.zip.\n"
          ],
          "name": "stdout"
        },
        {
          "output_type": "execute_result",
          "data": {
            "text/plain": [
              "True"
            ]
          },
          "metadata": {
            "tags": []
          },
          "execution_count": 21
        }
      ]
    },
    {
      "cell_type": "code",
      "metadata": {
        "id": "bbjuQtbTJ6jo",
        "colab_type": "code",
        "colab": {
          "base_uri": "https://localhost:8080/",
          "height": 349
        },
        "outputId": "d392fe59-a77f-4547-a1ce-e7ec9f4d3199"
      },
      "source": [
        "df.head(3)"
      ],
      "execution_count": 30,
      "outputs": [
        {
          "output_type": "execute_result",
          "data": {
            "text/html": [
              "<div>\n",
              "<style scoped>\n",
              "    .dataframe tbody tr th:only-of-type {\n",
              "        vertical-align: middle;\n",
              "    }\n",
              "\n",
              "    .dataframe tbody tr th {\n",
              "        vertical-align: top;\n",
              "    }\n",
              "\n",
              "    .dataframe thead th {\n",
              "        text-align: right;\n",
              "    }\n",
              "</style>\n",
              "<table border=\"1\" class=\"dataframe\">\n",
              "  <thead>\n",
              "    <tr style=\"text-align: right;\">\n",
              "      <th></th>\n",
              "      <th>Company</th>\n",
              "      <th>Title</th>\n",
              "      <th>Category</th>\n",
              "      <th>Location</th>\n",
              "      <th>Responsibilities</th>\n",
              "      <th>Minimum_Qualifications</th>\n",
              "      <th>Preferred_Qualifications</th>\n",
              "      <th>Country</th>\n",
              "    </tr>\n",
              "  </thead>\n",
              "  <tbody>\n",
              "    <tr>\n",
              "      <th>0</th>\n",
              "      <td>Google</td>\n",
              "      <td>Google Cloud Program Manager</td>\n",
              "      <td>Program Management</td>\n",
              "      <td>Singapore</td>\n",
              "      <td>Shape, shepherd, ship, and show technical prog...</td>\n",
              "      <td>BA/BS degree or equivalent practical experienc...</td>\n",
              "      <td>Experience in the business technology market a...</td>\n",
              "      <td>Singapore</td>\n",
              "    </tr>\n",
              "    <tr>\n",
              "      <th>1</th>\n",
              "      <td>Google</td>\n",
              "      <td>Supplier Development Engineer (SDE), Cable/Con...</td>\n",
              "      <td>Manufacturing &amp; Supply Chain</td>\n",
              "      <td>Shanghai, China</td>\n",
              "      <td>Drive cross-functional activities in the suppl...</td>\n",
              "      <td>BS degree in an Engineering discipline or equi...</td>\n",
              "      <td>BSEE, BSME or BSIE degree.\\nExperience of usin...</td>\n",
              "      <td>China</td>\n",
              "    </tr>\n",
              "    <tr>\n",
              "      <th>2</th>\n",
              "      <td>Google</td>\n",
              "      <td>Data Analyst, Product and Tools Operations, Go...</td>\n",
              "      <td>Technical Solutions</td>\n",
              "      <td>New York, NY, United States</td>\n",
              "      <td>Collect and analyze data to draw insight and i...</td>\n",
              "      <td>Bachelor’s degree in Business, Economics, Stat...</td>\n",
              "      <td>Experience partnering or consulting cross-func...</td>\n",
              "      <td>United States</td>\n",
              "    </tr>\n",
              "  </tbody>\n",
              "</table>\n",
              "</div>"
            ],
            "text/plain": [
              "  Company  ...         Country\n",
              "0  Google  ...       Singapore\n",
              "1  Google  ...           China\n",
              "2  Google  ...   United States\n",
              "\n",
              "[3 rows x 8 columns]"
            ]
          },
          "metadata": {
            "tags": []
          },
          "execution_count": 30
        }
      ]
    },
    {
      "cell_type": "code",
      "metadata": {
        "id": "SXkOhgVtLVgK",
        "colab_type": "code",
        "colab": {
          "base_uri": "https://localhost:8080/",
          "height": 170
        },
        "outputId": "c1454b8d-5140-40ee-fa88-a2d524570e57"
      },
      "source": [
        "df.Minimum_years_experience.describe()"
      ],
      "execution_count": 41,
      "outputs": [
        {
          "output_type": "execute_result",
          "data": {
            "text/plain": [
              "count    1212.000000\n",
              "mean     2.842409   \n",
              "std      3.301640   \n",
              "min      0.000000   \n",
              "25%      0.000000   \n",
              "50%      2.000000   \n",
              "75%      5.000000   \n",
              "max      15.000000  \n",
              "Name: Minimum_years_experience, dtype: float64"
            ]
          },
          "metadata": {
            "tags": []
          },
          "execution_count": 41
        }
      ]
    },
    {
      "cell_type": "code",
      "metadata": {
        "id": "pqjPC-opLYqv",
        "colab_type": "code",
        "colab": {
          "base_uri": "https://localhost:8080/",
          "height": 204
        },
        "outputId": "91b4b32b-9dba-45aa-9b78-66f06df07438"
      },
      "source": [
        "df.Category.value_counts()[:10]"
      ],
      "execution_count": 32,
      "outputs": [
        {
          "output_type": "execute_result",
          "data": {
            "text/plain": [
              "Sales & Account Management    167\n",
              "Marketing & Communications    161\n",
              "Finance                       112\n",
              "Technical Solutions           101\n",
              "Business Strategy              92\n",
              "People Operations              86\n",
              "User Experience & Design       83\n",
              "Program Management             74\n",
              "Partnerships                   59\n",
              "Product & Customer Support     48\n",
              "Name: Category, dtype: int64"
            ]
          },
          "metadata": {
            "tags": []
          },
          "execution_count": 32
        }
      ]
    },
    {
      "cell_type": "markdown",
      "metadata": {
        "id": "4i9dJ_2qL1GC",
        "colab_type": "text"
      },
      "source": [
        "**Exploratory**"
      ]
    },
    {
      "cell_type": "code",
      "metadata": {
        "id": "3UW8PbItLyY1",
        "colab_type": "code",
        "colab": {
          "base_uri": "https://localhost:8080/",
          "height": 712
        },
        "outputId": "13e03635-4791-4df9-bdb4-a5cf14c098bb"
      },
      "source": [
        "pd.set_option('display.max_colwidth', -1)\n",
        "df.head(1)"
      ],
      "execution_count": 33,
      "outputs": [
        {
          "output_type": "stream",
          "text": [
            "/usr/local/lib/python3.6/dist-packages/ipykernel_launcher.py:1: FutureWarning: Passing a negative integer is deprecated in version 1.0 and will not be supported in future version. Instead, use None to not limit the column width.\n",
            "  \"\"\"Entry point for launching an IPython kernel.\n"
          ],
          "name": "stderr"
        },
        {
          "output_type": "execute_result",
          "data": {
            "text/html": [
              "<div>\n",
              "<style scoped>\n",
              "    .dataframe tbody tr th:only-of-type {\n",
              "        vertical-align: middle;\n",
              "    }\n",
              "\n",
              "    .dataframe tbody tr th {\n",
              "        vertical-align: top;\n",
              "    }\n",
              "\n",
              "    .dataframe thead th {\n",
              "        text-align: right;\n",
              "    }\n",
              "</style>\n",
              "<table border=\"1\" class=\"dataframe\">\n",
              "  <thead>\n",
              "    <tr style=\"text-align: right;\">\n",
              "      <th></th>\n",
              "      <th>Company</th>\n",
              "      <th>Title</th>\n",
              "      <th>Category</th>\n",
              "      <th>Location</th>\n",
              "      <th>Responsibilities</th>\n",
              "      <th>Minimum_Qualifications</th>\n",
              "      <th>Preferred_Qualifications</th>\n",
              "      <th>Country</th>\n",
              "    </tr>\n",
              "  </thead>\n",
              "  <tbody>\n",
              "    <tr>\n",
              "      <th>0</th>\n",
              "      <td>Google</td>\n",
              "      <td>Google Cloud Program Manager</td>\n",
              "      <td>Program Management</td>\n",
              "      <td>Singapore</td>\n",
              "      <td>Shape, shepherd, ship, and show technical programs designed to support the work of Cloud Customer Engineers and Solutions Architects.\\nMeasure and report on key metrics tied to those programs to identify any need to change course, cancel, or scale the programs from a regional to global platform.\\nCommunicate status and identify any obstacles and paths for resolution to stakeholders, including those in senior roles, in a transparent, regular, professional and timely manner.\\nEstablish expectations and rationale on deliverables for stakeholders and program contributors.\\nProvide program performance feedback to teams in Product, Engineering, Sales, and Marketing (among others) to enable efficient cross-team operations.</td>\n",
              "      <td>BA/BS degree or equivalent practical experience.\\n3 years of experience in program and/or project management in cloud computing, enterprise software and/or marketing technologies.</td>\n",
              "      <td>Experience in the business technology market as a program manager in SaaS, cloud computing, and/or emerging technologies.\\nSignificant cross-functional experience across engineering, sales, and marketing teams in cloud computing or related technical fields.\\nProven successful program outcomes from idea to launch in multiple contexts throughout your career.\\nAbility to manage the expectations, demands and priorities of multiple internal stakeholders based on overarching vision and success for global team health.\\nAbility to work under pressure and possess flexibility with changing needs and direction in a rapidly-growing organization.\\nStrong organization and communication skills.</td>\n",
              "      <td>Singapore</td>\n",
              "    </tr>\n",
              "  </tbody>\n",
              "</table>\n",
              "</div>"
            ],
            "text/plain": [
              "  Company  ...    Country\n",
              "0  Google  ...  Singapore\n",
              "\n",
              "[1 rows x 8 columns]"
            ]
          },
          "metadata": {
            "tags": []
          },
          "execution_count": 33
        }
      ]
    },
    {
      "cell_type": "markdown",
      "metadata": {
        "id": "P3pWkkQNL8sr",
        "colab_type": "text"
      },
      "source": [
        "Here, I want to extract degree requirement of each rows. Also, the language required for each role."
      ]
    },
    {
      "cell_type": "code",
      "metadata": {
        "id": "Acprx6jHL6qM",
        "colab_type": "code",
        "colab": {
          "base_uri": "https://localhost:8080/",
          "height": 34
        },
        "outputId": "6d5ff4ad-5816-4a51-80cb-6b24bfc51234"
      },
      "source": [
        "Degree = ['BA','BS','Bachelor','MBA','Master','PhD']\n",
        "\n",
        "Degrees = dict((x,0) for x in Degree)\n",
        "for i in Degree:\n",
        "    x = df['Minimum_Qualifications'].str.contains(i).sum()\n",
        "    if i in Degrees:\n",
        "        Degrees[i] = x\n",
        "        \n",
        "print(Degrees)"
      ],
      "execution_count": 34,
      "outputs": [
        {
          "output_type": "stream",
          "text": [
            "{'BA': 891, 'BS': 861, 'Bachelor': 163, 'MBA': 71, 'Master': 80, 'PhD': 8}\n"
          ],
          "name": "stdout"
        }
      ]
    },
    {
      "cell_type": "code",
      "metadata": {
        "id": "8Qmh5JhbMCxQ",
        "colab_type": "code",
        "colab": {
          "base_uri": "https://localhost:8080/",
          "height": 235
        },
        "outputId": "a225181f-c914-46e4-9fbf-1f022f921bf9"
      },
      "source": [
        "degree_requirement = sorted(Degrees.items(), key=lambda x: x[1], reverse=True)\n",
        "degree = pd.DataFrame(degree_requirement,columns=['Degree','Count'])\n",
        "degree['Count'] = degree.Count.astype('int')\n",
        "degree"
      ],
      "execution_count": 35,
      "outputs": [
        {
          "output_type": "execute_result",
          "data": {
            "text/html": [
              "<div>\n",
              "<style scoped>\n",
              "    .dataframe tbody tr th:only-of-type {\n",
              "        vertical-align: middle;\n",
              "    }\n",
              "\n",
              "    .dataframe tbody tr th {\n",
              "        vertical-align: top;\n",
              "    }\n",
              "\n",
              "    .dataframe thead th {\n",
              "        text-align: right;\n",
              "    }\n",
              "</style>\n",
              "<table border=\"1\" class=\"dataframe\">\n",
              "  <thead>\n",
              "    <tr style=\"text-align: right;\">\n",
              "      <th></th>\n",
              "      <th>Degree</th>\n",
              "      <th>Count</th>\n",
              "    </tr>\n",
              "  </thead>\n",
              "  <tbody>\n",
              "    <tr>\n",
              "      <th>0</th>\n",
              "      <td>BA</td>\n",
              "      <td>891</td>\n",
              "    </tr>\n",
              "    <tr>\n",
              "      <th>1</th>\n",
              "      <td>BS</td>\n",
              "      <td>861</td>\n",
              "    </tr>\n",
              "    <tr>\n",
              "      <th>2</th>\n",
              "      <td>Bachelor</td>\n",
              "      <td>163</td>\n",
              "    </tr>\n",
              "    <tr>\n",
              "      <th>3</th>\n",
              "      <td>Master</td>\n",
              "      <td>80</td>\n",
              "    </tr>\n",
              "    <tr>\n",
              "      <th>4</th>\n",
              "      <td>MBA</td>\n",
              "      <td>71</td>\n",
              "    </tr>\n",
              "    <tr>\n",
              "      <th>5</th>\n",
              "      <td>PhD</td>\n",
              "      <td>8</td>\n",
              "    </tr>\n",
              "  </tbody>\n",
              "</table>\n",
              "</div>"
            ],
            "text/plain": [
              "     Degree  Count\n",
              "0  BA        891  \n",
              "1  BS        861  \n",
              "2  Bachelor  163  \n",
              "3  Master    80   \n",
              "4  MBA       71   \n",
              "5  PhD       8    "
            ]
          },
          "metadata": {
            "tags": []
          },
          "execution_count": 35
        }
      ]
    },
    {
      "cell_type": "code",
      "metadata": {
        "id": "Nj_qplPpMGJP",
        "colab_type": "code",
        "colab": {
          "base_uri": "https://localhost:8080/",
          "height": 316
        },
        "outputId": "02f7f9e8-bf31-4cb4-f880-2aa6a544acf4"
      },
      "source": [
        "degree.plot.barh(x='Degree',y='Count',legend=False)\n",
        "plt.title('Degrees Distribution',fontsize=14)\n",
        "plt.xlabel('Count')"
      ],
      "execution_count": 36,
      "outputs": [
        {
          "output_type": "execute_result",
          "data": {
            "text/plain": [
              "Text(0.5, 0, 'Count')"
            ]
          },
          "metadata": {
            "tags": []
          },
          "execution_count": 36
        },
        {
          "output_type": "display_data",
          "data": {
            "image/png": "[encoded data removed]",
            "text/plain": [
              "<Figure size 432x288 with 1 Axes>"
            ]
          },
          "metadata": {
            "tags": [],
            "needs_background": "light"
          }
        }
      ]
    },
    {
      "cell_type": "markdown",
      "metadata": {
        "id": "7vBxK_sIMQ97",
        "colab_type": "text"
      },
      "source": [
        "Obviously, most of the positions require basic degree, while some require further education degree, like Master and PhD.\n",
        "\n",
        "Now, I want to see the distribution of the requiring work experience."
      ]
    },
    {
      "cell_type": "code",
      "metadata": {
        "id": "rUHg3qqNMI-M",
        "colab_type": "code",
        "colab": {
          "base_uri": "https://localhost:8080/",
          "height": 300
        },
        "outputId": "d6b8bd1b-bae2-4852-e24e-97ee7878bf9c"
      },
      "source": [
        "df.Minimum_years_experience.plot(kind='box')\n",
        "plt.title('Minimum work experience')\n",
        "plt.ylabel('Years')"
      ],
      "execution_count": 45,
      "outputs": [
        {
          "output_type": "execute_result",
          "data": {
            "text/plain": [
              "Text(0, 0.5, 'Years')"
            ]
          },
          "metadata": {
            "tags": []
          },
          "execution_count": 45
        },
        {
          "output_type": "display_data",
          "data": {
            "image/png": "[encoded data removed]",
            "text/plain": [
              "<Figure size 432x288 with 1 Axes>"
            ]
          },
          "metadata": {
            "tags": [],
            "needs_background": "light"
          }
        }
      ]
    },
    {
      "cell_type": "markdown",
      "metadata": {
        "id": "Y6-gwsrlReYe",
        "colab_type": "text"
      },
      "source": [
        "The outliers signifies the senior positions."
      ]
    },
    {
      "cell_type": "code",
      "metadata": {
        "id": "mOJXxeUPRBQl",
        "colab_type": "code",
        "colab": {
          "base_uri": "https://localhost:8080/",
          "height": 328
        },
        "outputId": "76e9b76a-f49e-48b3-9dba-912432394a63"
      },
      "source": [
        "import seaborn as sns\n",
        "sns.countplot('Minimum_years_experience',data=df)\n",
        "plt.suptitle('Minimum work experience')"
      ],
      "execution_count": 46,
      "outputs": [
        {
          "output_type": "execute_result",
          "data": {
            "text/plain": [
              "Text(0.5, 0.98, 'Minimum work experience')"
            ]
          },
          "metadata": {
            "tags": []
          },
          "execution_count": 46
        },
        {
          "output_type": "display_data",
          "data": {
            "image/png": "[encoded data removed]",
            "text/plain": [
              "<Figure size 432x288 with 1 Axes>"
            ]
          },
          "metadata": {
            "tags": [],
            "needs_background": "light"
          }
        }
      ]
    },
    {
      "cell_type": "markdown",
      "metadata": {
        "id": "50zoVbLHRqRI",
        "colab_type": "text"
      },
      "source": [
        "In the data most of the positions are deprived of experience needed."
      ]
    },
    {
      "cell_type": "code",
      "metadata": {
        "id": "OSsDSmeSRnio",
        "colab_type": "code",
        "colab": {
          "base_uri": "https://localhost:8080/",
          "height": 34
        },
        "outputId": "c83021a0-2c24-43c6-bc83-bd6a72d736cd"
      },
      "source": [
        "Programming_Languages = ['Python', 'Java ','C#', 'PHP', 'Javascript', 'Ruby', 'Perl', 'SQL','Go ']\n",
        "\n",
        "Languages = dict((x,0) for x in Programming_Languages)\n",
        "for i in Languages:\n",
        "    x = df['Minimum_Qualifications'].str.contains(i).sum()\n",
        "    if i in Languages:\n",
        "        Languages[i] = x\n",
        "        \n",
        "print(Languages)"
      ],
      "execution_count": 47,
      "outputs": [
        {
          "output_type": "stream",
          "text": [
            "{'Python': 96, 'Java ': 71, 'C#': 0, 'PHP': 7, 'Javascript': 3, 'Ruby': 14, 'Perl': 6, 'SQL': 69, 'Go ': 26}\n"
          ],
          "name": "stdout"
        }
      ]
    },
    {
      "cell_type": "code",
      "metadata": {
        "id": "T3P8U4iwSdwU",
        "colab_type": "code",
        "colab": {
          "base_uri": "https://localhost:8080/",
          "height": 328
        },
        "outputId": "9d399ab7-8a5d-43aa-d525-f065867afda7"
      },
      "source": [
        "languages_requirement = sorted(Languages.items(), key=lambda x: x[1], reverse=True)\n",
        "language = pd.DataFrame(languages_requirement,columns=['Language','Count'])\n",
        "language['Count'] = language.Count.astype('int')\n",
        "language"
      ],
      "execution_count": 48,
      "outputs": [
        {
          "output_type": "execute_result",
          "data": {
            "text/html": [
              "<div>\n",
              "<style scoped>\n",
              "    .dataframe tbody tr th:only-of-type {\n",
              "        vertical-align: middle;\n",
              "    }\n",
              "\n",
              "    .dataframe tbody tr th {\n",
              "        vertical-align: top;\n",
              "    }\n",
              "\n",
              "    .dataframe thead th {\n",
              "        text-align: right;\n",
              "    }\n",
              "</style>\n",
              "<table border=\"1\" class=\"dataframe\">\n",
              "  <thead>\n",
              "    <tr style=\"text-align: right;\">\n",
              "      <th></th>\n",
              "      <th>Language</th>\n",
              "      <th>Count</th>\n",
              "    </tr>\n",
              "  </thead>\n",
              "  <tbody>\n",
              "    <tr>\n",
              "      <th>0</th>\n",
              "      <td>Python</td>\n",
              "      <td>96</td>\n",
              "    </tr>\n",
              "    <tr>\n",
              "      <th>1</th>\n",
              "      <td>Java</td>\n",
              "      <td>71</td>\n",
              "    </tr>\n",
              "    <tr>\n",
              "      <th>2</th>\n",
              "      <td>SQL</td>\n",
              "      <td>69</td>\n",
              "    </tr>\n",
              "    <tr>\n",
              "      <th>3</th>\n",
              "      <td>Go</td>\n",
              "      <td>26</td>\n",
              "    </tr>\n",
              "    <tr>\n",
              "      <th>4</th>\n",
              "      <td>Ruby</td>\n",
              "      <td>14</td>\n",
              "    </tr>\n",
              "    <tr>\n",
              "      <th>5</th>\n",
              "      <td>PHP</td>\n",
              "      <td>7</td>\n",
              "    </tr>\n",
              "    <tr>\n",
              "      <th>6</th>\n",
              "      <td>Perl</td>\n",
              "      <td>6</td>\n",
              "    </tr>\n",
              "    <tr>\n",
              "      <th>7</th>\n",
              "      <td>Javascript</td>\n",
              "      <td>3</td>\n",
              "    </tr>\n",
              "    <tr>\n",
              "      <th>8</th>\n",
              "      <td>C#</td>\n",
              "      <td>0</td>\n",
              "    </tr>\n",
              "  </tbody>\n",
              "</table>\n",
              "</div>"
            ],
            "text/plain": [
              "     Language  Count\n",
              "0  Python      96   \n",
              "1  Java        71   \n",
              "2  SQL         69   \n",
              "3  Go          26   \n",
              "4  Ruby        14   \n",
              "5  PHP         7    \n",
              "6  Perl        6    \n",
              "7  Javascript  3    \n",
              "8  C#          0    "
            ]
          },
          "metadata": {
            "tags": []
          },
          "execution_count": 48
        }
      ]
    },
    {
      "cell_type": "code",
      "metadata": {
        "id": "OBn8XUsiSgzU",
        "colab_type": "code",
        "colab": {
          "base_uri": "https://localhost:8080/",
          "height": 328
        },
        "outputId": "9c025b36-2daf-48a3-cdd1-dd2a3b7a9354"
      },
      "source": [
        "language.plot.barh(x='Language',y='Count',legend=False)\n",
        "plt.suptitle('Languages Distribution',fontsize=14)\n",
        "plt.xlabel('Count')"
      ],
      "execution_count": 49,
      "outputs": [
        {
          "output_type": "execute_result",
          "data": {
            "text/plain": [
              "Text(0.5, 0, 'Count')"
            ]
          },
          "metadata": {
            "tags": []
          },
          "execution_count": 49
        },
        {
          "output_type": "display_data",
          "data": {
            "image/png": "[encoded data removed]",
            "text/plain": [
              "<Figure size 432x288 with 1 Axes>"
            ]
          },
          "metadata": {
            "tags": [],
            "needs_background": "light"
          }
        }
      ]
    },
    {
      "cell_type": "markdown",
      "metadata": {
        "id": "8qGUbM-ISkr3",
        "colab_type": "text"
      },
      "source": [
        "From the above bar chart it is evident that Python, SQL are important which indicates that the growing demand of data analysis."
      ]
    },
    {
      "cell_type": "markdown",
      "metadata": {
        "id": "us0J_UxBS9nv",
        "colab_type": "text"
      },
      "source": [
        "**Function**"
      ]
    },
    {
      "cell_type": "code",
      "metadata": {
        "id": "xT9z89PqSjOE",
        "colab_type": "code",
        "colab": {}
      },
      "source": [
        "def MadeWordCloud(title,text):\n",
        "    df_subset = df.loc[df.Title.str.contains(title).fillna(False)]\n",
        "    long_text = ' '.join(df_subset[text].tolist())\n",
        "    sns.set(rc={'figure.figsize':(11.7,8.27)})\n",
        "    wordcloud = WordCloud(mask=G,background_color=\"white\").generate(long_text)\n",
        "    plt.figure()\n",
        "    plt.imshow(wordcloud, interpolation=\"bilinear\")\n",
        "    plt.axis(\"off\")\n",
        "    plt.margins(x=0, y=0)\n",
        "    plt.title(text,size=24)\n",
        "    plt.show()"
      ],
      "execution_count": 65,
      "outputs": []
    },
    {
      "cell_type": "markdown",
      "metadata": {
        "id": "gR3pWIxYTVm9",
        "colab_type": "text"
      },
      "source": [
        "Here, I want to create word clouds to know more about how to be qualified to be a competitive candidates for data-related positions in Google."
      ]
    },
    {
      "cell_type": "markdown",
      "metadata": {
        "id": "jsXPai-gTakA",
        "colab_type": "text"
      },
      "source": [
        "**Analyst**"
      ]
    },
    {
      "cell_type": "code",
      "metadata": {
        "id": "VwUE8p35TCkD",
        "colab_type": "code",
        "colab": {}
      },
      "source": [
        "df_Analyst = df.loc[df.Title.str.contains('Analyst').fillna(False)]"
      ],
      "execution_count": 51,
      "outputs": []
    },
    {
      "cell_type": "code",
      "metadata": {
        "id": "DUs3NfsWThm8",
        "colab_type": "code",
        "colab": {
          "base_uri": "https://localhost:8080/",
          "height": 372
        },
        "outputId": "0a7ec4b8-dd2f-4272-b1c6-2ce81e74ef37"
      },
      "source": [
        "df_Analyst.head(1)"
      ],
      "execution_count": 52,
      "outputs": [
        {
          "output_type": "execute_result",
          "data": {
            "text/html": [
              "<div>\n",
              "<style scoped>\n",
              "    .dataframe tbody tr th:only-of-type {\n",
              "        vertical-align: middle;\n",
              "    }\n",
              "\n",
              "    .dataframe tbody tr th {\n",
              "        vertical-align: top;\n",
              "    }\n",
              "\n",
              "    .dataframe thead th {\n",
              "        text-align: right;\n",
              "    }\n",
              "</style>\n",
              "<table border=\"1\" class=\"dataframe\">\n",
              "  <thead>\n",
              "    <tr style=\"text-align: right;\">\n",
              "      <th></th>\n",
              "      <th>Company</th>\n",
              "      <th>Title</th>\n",
              "      <th>Category</th>\n",
              "      <th>Location</th>\n",
              "      <th>Responsibilities</th>\n",
              "      <th>Minimum_Qualifications</th>\n",
              "      <th>Preferred_Qualifications</th>\n",
              "      <th>Country</th>\n",
              "      <th>Minimum_years_experience</th>\n",
              "    </tr>\n",
              "  </thead>\n",
              "  <tbody>\n",
              "    <tr>\n",
              "      <th>2</th>\n",
              "      <td>Google</td>\n",
              "      <td>Data Analyst, Product and Tools Operations, Google Technical Services</td>\n",
              "      <td>Technical Solutions</td>\n",
              "      <td>New York, NY, United States</td>\n",
              "      <td>Collect analyze data draw insight identify strategic solutions . Build consensus facilitating broad collaboration clear communication documentation . Work cross-functional stakeholders gather requirements , manage implementation , drive delivery projects .</td>\n",
              "      <td>Bachelor ’ degree Business , Economics , Statistics , Operations Research related analytical field , equivalent practical experience . 2 years work experience business analysis . 1 year experience statistical modeling , forecasting machine learning . Experience R , SAS Python . 1 year experience developing manipulating large datasets .</td>\n",
              "      <td>Experience partnering consulting cross-functionally senior stakeholders . Proficiency database query language ( e.g . SQL ) . Ability manage multiple projects ambiguous environment . Strong presentation communication skills ability communicate statistical concepts explain recommendations non-experts .</td>\n",
              "      <td>United States</td>\n",
              "      <td>2</td>\n",
              "    </tr>\n",
              "  </tbody>\n",
              "</table>\n",
              "</div>"
            ],
            "text/plain": [
              "  Company  ... Minimum_years_experience\n",
              "2  Google  ...  2                      \n",
              "\n",
              "[1 rows x 9 columns]"
            ]
          },
          "metadata": {
            "tags": []
          },
          "execution_count": 52
        }
      ]
    },
    {
      "cell_type": "code",
      "metadata": {
        "id": "aIz-f11bTjzw",
        "colab_type": "code",
        "colab": {
          "base_uri": "https://localhost:8080/",
          "height": 221
        },
        "outputId": "fa342a19-c679-4cb5-f21d-96e09f387726"
      },
      "source": [
        "df_Analyst.Country.value_counts()"
      ],
      "execution_count": 53,
      "outputs": [
        {
          "output_type": "execute_result",
          "data": {
            "text/plain": [
              " United States     40\n",
              " Switzerland       6 \n",
              " Ireland           5 \n",
              " United Kingdom    4 \n",
              " China             1 \n",
              "Singapore          1 \n",
              " India             1 \n",
              " France            1 \n",
              " Germany           1 \n",
              " Japan             1 \n",
              " Israel            1 \n",
              "Name: Country, dtype: int64"
            ]
          },
          "metadata": {
            "tags": []
          },
          "execution_count": 53
        }
      ]
    },
    {
      "cell_type": "code",
      "metadata": {
        "id": "_rmXCjZGTl4J",
        "colab_type": "code",
        "colab": {}
      },
      "source": [
        "Res_AN = ' '.join(df_Analyst['Responsibilities'].tolist())"
      ],
      "execution_count": 54,
      "outputs": []
    },
    {
      "cell_type": "code",
      "metadata": {
        "id": "vaO4yVdaV3he",
        "colab_type": "code",
        "colab": {
          "resources": {
            "http://localhost:8080/nbextensions/google.colab/files.js": {
              "data": "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",
              "ok": true,
              "headers": [
                [
                  "content-type",
                  "application/javascript"
                ]
              ],
              "status": 200,
              "status_text": ""
            }
          },
          "base_uri": "https://localhost:8080/",
          "height": 72
        },
        "outputId": "cbd66957-b95e-4faa-ad7a-9c36bc4d5933"
      },
      "source": [
        "from google.colab import files\n",
        "from io import BytesIO\n",
        "from PIL import Image\n",
        "\n",
        "uploaded = files.upload()\n",
        "im = Image.open(BytesIO(uploaded['Google-logo_1.jpg']))"
      ],
      "execution_count": 59,
      "outputs": [
        {
          "output_type": "display_data",
          "data": {
            "text/html": [
              "\n",
              "     <input type=\"file\" id=\"files-9b04af45-2002-4834-93f2-8f19d01ff076\" name=\"files[]\" multiple disabled\n",
              "        style=\"border:none\" />\n",
              "     <output id=\"result-9b04af45-2002-4834-93f2-8f19d01ff076\">\n",
              "      Upload widget is only available when the cell has been executed in the\n",
              "      current browser session. Please rerun this cell to enable.\n",
              "      </output>\n",
              "      <script src=\"/nbextensions/google.colab/files.js\"></script> "
            ],
            "text/plain": [
              "<IPython.core.display.HTML object>"
            ]
          },
          "metadata": {
            "tags": []
          }
        },
        {
          "output_type": "stream",
          "text": [
            "Saving Google-logo_1.jpg to Google-logo_1 (1).jpg\n"
          ],
          "name": "stdout"
        }
      ]
    },
    {
      "cell_type": "code",
      "metadata": {
        "id": "YRdmjR7WTso1",
        "colab_type": "code",
        "colab": {
          "base_uri": "https://localhost:8080/",
          "height": 227
        },
        "outputId": "eb622e3a-58f7-4a83-ff5b-1e43fd9c1439"
      },
      "source": [
        "plt.imshow(im)\n",
        "plt.show()"
      ],
      "execution_count": 62,
      "outputs": [
        {
          "output_type": "display_data",
          "data": {
            "image/png": "[encoded data removed]",
            "text/plain": [
              "<Figure size 432x288 with 1 Axes>"
            ]
          },
          "metadata": {
            "tags": [],
            "needs_background": "light"
          }
        }
      ]
    },
    {
      "cell_type": "code",
      "metadata": {
        "id": "W2BtTiiZXV-u",
        "colab_type": "code",
        "colab": {}
      },
      "source": [
        "from wordcloud import WordCloud, ImageColorGenerator\n",
        "from PIL import Image\n",
        "\n",
        "G = np.array(Image.open('Google-logo_1.jpg'))"
      ],
      "execution_count": 68,
      "outputs": []
    },
    {
      "cell_type": "code",
      "metadata": {
        "id": "Rkjk3aBtXM1n",
        "colab_type": "code",
        "colab": {
          "base_uri": "https://localhost:8080/",
          "height": 398
        },
        "outputId": "85763deb-7d8a-468d-a0d9-81a32113af56"
      },
      "source": [
        "sns.set(rc={'figure.figsize':(11.7,8.27)})\n",
        "\n",
        "wordcloud = WordCloud(mask=G,background_color=\"white\").generate(Res_AN)\n",
        "plt.figure()\n",
        "plt.imshow(wordcloud, interpolation=\"bilinear\")\n",
        "plt.axis(\"off\")\n",
        "plt.margins(x=0, y=0)\n",
        "plt.title('Responsibilites',size=24)\n",
        "plt.show()"
      ],
      "execution_count": 69,
      "outputs": [
        {
          "output_type": "display_data",
          "data": {
            "image/png": "[encoded data removed]",
            "text/plain": [
              "<Figure size 842.4x595.44 with 1 Axes>"
            ]
          },
          "metadata": {
            "tags": []
          }
        }
      ]
    },
    {
      "cell_type": "markdown",
      "metadata": {
        "id": "8NmclPbDZEiU",
        "colab_type": "text"
      },
      "source": [
        "Here we can see some keywords to know more about what a Data Analyst do in Google\n",
        "\n",
        "Keywords\n",
        "\n",
        "Criteria :\n",
        " Data/Team/Product/Business/Work\n",
        "\n",
        "Insight : strategic/quality/key/projects/plan/identify/analysis/action/business/infrastructure\n",
        "\n",
        "Audience : sales/operation/stakeholders                                      \n",
        "Verb : maintain/improve/support/model/draw/customize/identify/provide\n",
        "Characteristic : leadership/quantitative/efficiency\n",
        "\n",
        "To sum up in a sentence :\n",
        "Looking for analysts with business and data knowledge, familiar with product to work as a team"
      ]
    },
    {
      "cell_type": "code",
      "metadata": {
        "id": "2I6RY-a2XT0a",
        "colab_type": "code",
        "colab": {
          "base_uri": "https://localhost:8080/",
          "height": 398
        },
        "outputId": "7e7844a2-36bc-4d3e-c0a9-a7c8dca06b28"
      },
      "source": [
        "MadeWordCloud('Analyst','Minimum_Qualifications')"
      ],
      "execution_count": 70,
      "outputs": [
        {
          "output_type": "display_data",
          "data": {
            "image/png": "[encoded data removed]",
            "text/plain": [
              "<Figure size 842.4x595.44 with 1 Axes>"
            ]
          },
          "metadata": {
            "tags": []
          }
        }
      ]
    },
    {
      "cell_type": "markdown",
      "metadata": {
        "id": "mnC1I9UuZ1zG",
        "colab_type": "text"
      },
      "source": [
        "Here we can see some keywords to know how to meet minimum requirements to be a Data Analyst in Google\n",
        "\n",
        "Keywords\n",
        "\n",
        "Fileds : Business/Computer Science/Mathematics/Statistics/Economics/Engineering\n",
        "\n",
        "Degree : BS/BA\n",
        "Languages : Python/SAS/JAVA/SQL\n",
        "\n",
        "Tools : Tableau"
      ]
    },
    {
      "cell_type": "markdown",
      "metadata": {
        "id": "Qp_7ohPxaMUe",
        "colab_type": "text"
      },
      "source": [
        "**I want to know what Google think about Python vs R**"
      ]
    },
    {
      "cell_type": "code",
      "metadata": {
        "id": "zTsZ6BGxY_UK",
        "colab_type": "code",
        "colab": {
          "base_uri": "https://localhost:8080/",
          "height": 34
        },
        "outputId": "a2d31386-ca5a-4397-e07a-68d1a19c4a3a"
      },
      "source": [
        "DataSkill = [' R','Python','SQL','SAS']\n",
        "\n",
        "DataSkills = dict((x,0) for x in DataSkill)\n",
        "for i in DataSkill:\n",
        "    x = df_Analyst['Minimum_Qualifications'].str.contains(i).sum()\n",
        "    if i in DataSkill:\n",
        "        DataSkills[i] = x\n",
        "        \n",
        "print(DataSkills)"
      ],
      "execution_count": 71,
      "outputs": [
        {
          "output_type": "stream",
          "text": [
            "{' R': 17, 'Python': 13, 'SQL': 27, 'SAS': 12}\n"
          ],
          "name": "stdout"
        }
      ]
    },
    {
      "cell_type": "markdown",
      "metadata": {
        "id": "mVBtmMw4aS52",
        "colab_type": "text"
      },
      "source": [
        "**And then, the degrees**"
      ]
    },
    {
      "cell_type": "code",
      "metadata": {
        "id": "T-2luO9TaRii",
        "colab_type": "code",
        "colab": {
          "base_uri": "https://localhost:8080/",
          "height": 34
        },
        "outputId": "98651ca5-a7ef-4499-ab4e-e349cd53e7f8"
      },
      "source": [
        "Degrees = dict((x,0) for x in Degree)\n",
        "for i in Degree:\n",
        "    x = df_Analyst['Minimum_Qualifications'].str.contains(i).sum()\n",
        "    if i in Degrees:\n",
        "        Degrees[i] = x\n",
        "        \n",
        "print(Degrees)"
      ],
      "execution_count": 72,
      "outputs": [
        {
          "output_type": "stream",
          "text": [
            "{'BA': 42, 'BS': 41, 'Bachelor': 6, 'MBA': 0, 'Master': 2, 'PhD': 5}\n"
          ],
          "name": "stdout"
        }
      ]
    },
    {
      "cell_type": "code",
      "metadata": {
        "id": "GIKgwbW4acwX",
        "colab_type": "code",
        "colab": {
          "base_uri": "https://localhost:8080/",
          "height": 34
        },
        "outputId": "5dfa54a5-dbc4-42a0-e3dc-2523cce2e478"
      },
      "source": [
        "Degrees = dict((x,0) for x in Degree)\n",
        "for i in Degree:\n",
        "    x = df_Analyst['Preferred_Qualifications'].str.contains(i).sum()\n",
        "    if i in Degrees:\n",
        "        Degrees[i] = x\n",
        "        \n",
        "print(Degrees)"
      ],
      "execution_count": 73,
      "outputs": [
        {
          "output_type": "stream",
          "text": [
            "{'BA': 14, 'BS': 5, 'Bachelor': 1, 'MBA': 9, 'Master': 13, 'PhD': 11}\n"
          ],
          "name": "stdout"
        }
      ]
    },
    {
      "cell_type": "markdown",
      "metadata": {
        "id": "kJNLe-Nzam_G",
        "colab_type": "text"
      },
      "source": [
        "It seems that Google do prefer a further education degree like master or PhD."
      ]
    },
    {
      "cell_type": "code",
      "metadata": {
        "id": "ePhwGE3baiFn",
        "colab_type": "code",
        "colab": {
          "base_uri": "https://localhost:8080/",
          "height": 594
        },
        "outputId": "ec9f35aa-9a1a-4d25-f933-dac29f52036e"
      },
      "source": [
        "sns.countplot('Minimum_years_experience',data=df_Analyst)\n",
        "plt.suptitle('Minimum work experience')"
      ],
      "execution_count": 74,
      "outputs": [
        {
          "output_type": "execute_result",
          "data": {
            "text/plain": [
              "Text(0.5, 0.98, 'Minimum work experience')"
            ]
          },
          "metadata": {
            "tags": []
          },
          "execution_count": 74
        },
        {
          "output_type": "display_data",
          "data": {
            "image/png": "[encoded data removed]",
            "text/plain": [
              "<Figure size 842.4x595.44 with 1 Axes>"
            ]
          },
          "metadata": {
            "tags": []
          }
        }
      ]
    },
    {
      "cell_type": "markdown",
      "metadata": {
        "id": "ajih1ptWatw3",
        "colab_type": "text"
      },
      "source": [
        "Most of the positions don't require work experience or didn't mention it. However, we can see some of them require 2-5 years experience."
      ]
    },
    {
      "cell_type": "markdown",
      "metadata": {
        "id": "GYE9abYGa4Ic",
        "colab_type": "text"
      },
      "source": [
        "**Developer**"
      ]
    },
    {
      "cell_type": "code",
      "metadata": {
        "id": "PcgSFcllar7h",
        "colab_type": "code",
        "colab": {}
      },
      "source": [
        "df_Developer = df.loc[df.Title.str.contains('Developer').fillna(False)]"
      ],
      "execution_count": 75,
      "outputs": []
    },
    {
      "cell_type": "code",
      "metadata": {
        "id": "7mpJ2hWma_te",
        "colab_type": "code",
        "colab": {
          "base_uri": "https://localhost:8080/",
          "height": 102
        },
        "outputId": "38dcf99a-7caa-49b3-cccb-08a57e8f2e5a"
      },
      "source": [
        "df_Developer.Country.value_counts()"
      ],
      "execution_count": 76,
      "outputs": [
        {
          "output_type": "execute_result",
          "data": {
            "text/plain": [
              " United States     5\n",
              " United Kingdom    3\n",
              " Ireland           2\n",
              " Japan             2\n",
              "Name: Country, dtype: int64"
            ]
          },
          "metadata": {
            "tags": []
          },
          "execution_count": 76
        }
      ]
    },
    {
      "cell_type": "code",
      "metadata": {
        "id": "akX8xs4dbDg8",
        "colab_type": "code",
        "colab": {
          "base_uri": "https://localhost:8080/",
          "height": 398
        },
        "outputId": "f97cfaf7-c511-4666-ff69-846bfd2dc78b"
      },
      "source": [
        "MadeWordCloud('Developer','Responsibilities')"
      ],
      "execution_count": 77,
      "outputs": [
        {
          "output_type": "display_data",
          "data": {
            "image/png": "[encoded data removed]",
            "text/plain": [
              "<Figure size 842.4x595.44 with 1 Axes>"
            ]
          },
          "metadata": {
            "tags": []
          }
        }
      ]
    },
    {
      "cell_type": "markdown",
      "metadata": {
        "id": "vIQKSdRfbNZL",
        "colab_type": "text"
      },
      "source": [
        "Keywords\n",
        "\n",
        "Fileds : Business\n",
        "\n",
        "Skills : Manage/Comunication/Management\n",
        "\n",
        "Experience : Engineers/Sales/Developer/Android/iOS\n",
        "\n",
        "I found that the developer positions in Google actually requires some leader's characteristics!\n",
        " It seems that Google don't want an engineer that only know how to code but play a team leader, or even more"
      ]
    },
    {
      "cell_type": "code",
      "metadata": {
        "id": "ReGDEqIqbH-c",
        "colab_type": "code",
        "colab": {
          "base_uri": "https://localhost:8080/",
          "height": 398
        },
        "outputId": "b990475d-e6fd-432d-a087-3781a2342b23"
      },
      "source": [
        "MadeWordCloud('Developer','Minimum_Qualifications')"
      ],
      "execution_count": 78,
      "outputs": [
        {
          "output_type": "display_data",
          "data": {
            "image/png": "[encoded data removed]",
            "text/plain": [
              "<Figure size 842.4x595.44 with 1 Axes>"
            ]
          },
          "metadata": {
            "tags": []
          }
        }
      ]
    },
    {
      "cell_type": "markdown",
      "metadata": {
        "id": "NSVqs6d9bbK6",
        "colab_type": "text"
      },
      "source": [
        "Keywords\n",
        "\n",
        "Degrees : BA/BS\n",
        "\n",
        "Languages : Go/Kotlin/Javascipt/Python/Java\n",
        "\n",
        "Criteria : practical experience/degree\n",
        "\n",
        "The main point for this plot is mostly about experience. It seems that the most importanat thing to be a developer at Google"
      ]
    },
    {
      "cell_type": "code",
      "metadata": {
        "id": "RYTVdCXZbZZh",
        "colab_type": "code",
        "colab": {
          "base_uri": "https://localhost:8080/",
          "height": 398
        },
        "outputId": "38cc1ca1-3f7f-4e5b-91a3-be35d5139714"
      },
      "source": [
        "MadeWordCloud('Developer','Preferred_Qualifications')"
      ],
      "execution_count": 79,
      "outputs": [
        {
          "output_type": "display_data",
          "data": {
            "image/png": "[encoded data removed]",
            "text/plain": [
              "<Figure size 842.4x595.44 with 1 Axes>"
            ]
          },
          "metadata": {
            "tags": []
          }
        }
      ]
    },
    {
      "cell_type": "markdown",
      "metadata": {
        "id": "hPv16K1YbrGP",
        "colab_type": "text"
      },
      "source": [
        "Keywords\n",
        "\n",
        "Criteria : Effective/Ability/Knowledge/Experience\n",
        "\n",
        "I'll sum up this plot by one sentence : Looking for developer that can work effectively and organizedly, having related experience and knowledge, and understanding industry and stakeholders."
      ]
    },
    {
      "cell_type": "markdown",
      "metadata": {
        "id": "KqeVJM97byzk",
        "colab_type": "text"
      },
      "source": [
        "**Also, I want to check the languages requirements of developer positions**"
      ]
    },
    {
      "cell_type": "code",
      "metadata": {
        "id": "L-Kysy1ebmPC",
        "colab_type": "code",
        "colab": {
          "base_uri": "https://localhost:8080/",
          "height": 34
        },
        "outputId": "44a87a1d-2fdd-4d6e-83bd-a6d9496f33d2"
      },
      "source": [
        "DataSkill = ['Java ','Javascript','Go ','Python','Kotlin','SQL']\n",
        "\n",
        "DataSkills = dict((x,0) for x in DataSkill)\n",
        "for i in DataSkill:\n",
        "    x = df_Developer['Minimum_Qualifications'].str.contains(i).sum()\n",
        "    if i in DataSkill:\n",
        "        DataSkills[i] = x\n",
        "        \n",
        "print(DataSkills)"
      ],
      "execution_count": 80,
      "outputs": [
        {
          "output_type": "stream",
          "text": [
            "{'Java ': 5, 'Javascript': 3, 'Go ': 2, 'Python': 2, 'Kotlin': 3, 'SQL': 0}\n"
          ],
          "name": "stdout"
        }
      ]
    },
    {
      "cell_type": "markdown",
      "metadata": {
        "id": "ASqOBjxdb5Ds",
        "colab_type": "text"
      },
      "source": [
        "**Of course, degrees as well**"
      ]
    },
    {
      "cell_type": "code",
      "metadata": {
        "id": "wIs4qBXcb3-R",
        "colab_type": "code",
        "colab": {
          "base_uri": "https://localhost:8080/",
          "height": 34
        },
        "outputId": "c3a9be1f-4053-4edd-8fa6-74f6697522ce"
      },
      "source": [
        "Degrees = dict((x,0) for x in Degree)\n",
        "for i in Degree:\n",
        "    x = df_Developer['Preferred_Qualifications'].str.contains(i).sum()\n",
        "    if i in Degrees:\n",
        "        Degrees[i] = x\n",
        "        \n",
        "print(Degrees)"
      ],
      "execution_count": 81,
      "outputs": [
        {
          "output_type": "stream",
          "text": [
            "{'BA': 1, 'BS': 1, 'Bachelor': 0, 'MBA': 0, 'Master': 1, 'PhD': 0}\n"
          ],
          "name": "stdout"
        }
      ]
    },
    {
      "cell_type": "markdown",
      "metadata": {
        "id": "xap-5MurcFJQ",
        "colab_type": "text"
      },
      "source": [
        "Compare to those of Analyst, Google don't actually prefer candidates with a further education degree. I guess it's because there are many theories, like mathematics, statistics, calculus required for analysts"
      ]
    },
    {
      "cell_type": "code",
      "metadata": {
        "id": "zj4ckeTycAvd",
        "colab_type": "code",
        "colab": {
          "base_uri": "https://localhost:8080/",
          "height": 537
        },
        "outputId": "b2df738b-fe5e-47ec-f74d-44a9f12d6461"
      },
      "source": [
        "sns.countplot('Minimum_years_experience',data=df_Developer)\n",
        "plt.suptitle('Minimum work experience')"
      ],
      "execution_count": 82,
      "outputs": [
        {
          "output_type": "execute_result",
          "data": {
            "text/plain": [
              "Text(0.5, 0.98, 'Minimum work experience')"
            ]
          },
          "metadata": {
            "tags": []
          },
          "execution_count": 82
        },
        {
          "output_type": "display_data",
          "data": {
            "image/png": "[encoded data removed]",
            "text/plain": [
              "<Figure size 842.4x595.44 with 1 Axes>"
            ]
          },
          "metadata": {
            "tags": []
          }
        }
      ]
    },
    {
      "cell_type": "markdown",
      "metadata": {
        "id": "9OdptkiBcLYZ",
        "colab_type": "text"
      },
      "source": [
        "Though most of the positions didn't mention the required work experience, we can still see 3 years experience might be a good qualification.\n",
        "\n",
        "**MBA Intern**\n",
        "\n",
        "I'm interested in these MBA Intern positions since it's also happening in my country, Taiwan, too. I wonder what they need to get the position and if they need to know how to code, what languages they need, etc. So, another time when Word Cloud come to be useful."
      ]
    },
    {
      "cell_type": "code",
      "metadata": {
        "id": "jEJnw4Q-cJx1",
        "colab_type": "code",
        "colab": {}
      },
      "source": [
        "df_MBA = df.loc[df.Title.str.contains('MBA').fillna(False)]"
      ],
      "execution_count": 83,
      "outputs": []
    },
    {
      "cell_type": "code",
      "metadata": {
        "id": "3JxrRmw9cbGJ",
        "colab_type": "code",
        "colab": {
          "base_uri": "https://localhost:8080/",
          "height": 338
        },
        "outputId": "fb332f1a-522e-4525-af2b-02922fe890e2"
      },
      "source": [
        "df_MBA.head(1)"
      ],
      "execution_count": 84,
      "outputs": [
        {
          "output_type": "execute_result",
          "data": {
            "text/html": [
              "<div>\n",
              "<style scoped>\n",
              "    .dataframe tbody tr th:only-of-type {\n",
              "        vertical-align: middle;\n",
              "    }\n",
              "\n",
              "    .dataframe tbody tr th {\n",
              "        vertical-align: top;\n",
              "    }\n",
              "\n",
              "    .dataframe thead th {\n",
              "        text-align: right;\n",
              "    }\n",
              "</style>\n",
              "<table border=\"1\" class=\"dataframe\">\n",
              "  <thead>\n",
              "    <tr style=\"text-align: right;\">\n",
              "      <th></th>\n",
              "      <th>Company</th>\n",
              "      <th>Title</th>\n",
              "      <th>Category</th>\n",
              "      <th>Location</th>\n",
              "      <th>Responsibilities</th>\n",
              "      <th>Minimum_Qualifications</th>\n",
              "      <th>Preferred_Qualifications</th>\n",
              "      <th>Country</th>\n",
              "      <th>Minimum_years_experience</th>\n",
              "    </tr>\n",
              "  </thead>\n",
              "  <tbody>\n",
              "    <tr>\n",
              "      <th>343</th>\n",
              "      <td>Google</td>\n",
              "      <td>MBA Intern (Korean-English Bilingual) 2018</td>\n",
              "      <td>Business Strategy</td>\n",
              "      <td>Seoul, South Korea</td>\n",
              "      <td>Responsibilities vary role .</td>\n",
              "      <td>Must pursuing full-time MBA program expected graduation date December 2018 June 2019 . Be able complete minimum 10 week program Seoul office 2018 . Ability speak write English Korean fluently idiomatically .</td>\n",
              "      <td>3 years relevant work experience areas mobile apps games , mobile business , distribution channels , competitive landscape . Demonstrated passion mobile apps games , mobile technology , broader mobile business . Excellent analytical skills , ability overcome strategic business challenges . Excellent critical-thinking skills , ability demonstrate maintain self-motivation .</td>\n",
              "      <td>South Korea</td>\n",
              "      <td>0</td>\n",
              "    </tr>\n",
              "  </tbody>\n",
              "</table>\n",
              "</div>"
            ],
            "text/plain": [
              "    Company  ... Minimum_years_experience\n",
              "343  Google  ...  0                      \n",
              "\n",
              "[1 rows x 9 columns]"
            ]
          },
          "metadata": {
            "tags": []
          },
          "execution_count": 84
        }
      ]
    },
    {
      "cell_type": "code",
      "metadata": {
        "id": "nbCzR1FDcdUb",
        "colab_type": "code",
        "colab": {
          "base_uri": "https://localhost:8080/",
          "height": 68
        },
        "outputId": "232a7aad-354f-40e4-932d-5e8e2a925e8a"
      },
      "source": [
        "df_MBA.Category.value_counts()"
      ],
      "execution_count": 85,
      "outputs": [
        {
          "output_type": "execute_result",
          "data": {
            "text/plain": [
              "Business Strategy    36\n",
              "Administrative       30\n",
              "Name: Category, dtype: int64"
            ]
          },
          "metadata": {
            "tags": []
          },
          "execution_count": 85
        }
      ]
    },
    {
      "cell_type": "code",
      "metadata": {
        "id": "Ci2aK_oXcfQ5",
        "colab_type": "code",
        "colab": {
          "base_uri": "https://localhost:8080/",
          "height": 204
        },
        "outputId": "bcb2c850-b69b-4c60-f2d5-2bb5e30161ce"
      },
      "source": [
        "df_MBA.Country.value_counts()"
      ],
      "execution_count": 86,
      "outputs": [
        {
          "output_type": "execute_result",
          "data": {
            "text/plain": [
              " United States     32\n",
              " China             8 \n",
              "Hong Kong          4 \n",
              " Thailand          4 \n",
              " Indonesia         4 \n",
              " South Korea       4 \n",
              " Taiwan            4 \n",
              "Singapore          4 \n",
              " Ireland           1 \n",
              " United Kingdom    1 \n",
              "Name: Country, dtype: int64"
            ]
          },
          "metadata": {
            "tags": []
          },
          "execution_count": 86
        }
      ]
    },
    {
      "cell_type": "code",
      "metadata": {
        "id": "XsWq8Hz7chf8",
        "colab_type": "code",
        "colab": {
          "base_uri": "https://localhost:8080/",
          "height": 376
        },
        "outputId": "e56c51c8-37ab-49a8-a5ba-d4ded1d87b29"
      },
      "source": [
        "MadeWordCloud('MBA','Minimum_Qualifications')"
      ],
      "execution_count": 87,
      "outputs": [
        {
          "output_type": "display_data",
          "data": {
            "image/png": "[encoded data removed]",
            "text/plain": [
              "<Figure size 842.4x595.44 with 1 Axes>"
            ]
          },
          "metadata": {
            "tags": []
          }
        }
      ]
    },
    {
      "cell_type": "code",
      "metadata": {
        "id": "jdZb6pA7cjw0",
        "colab_type": "code",
        "colab": {
          "base_uri": "https://localhost:8080/",
          "height": 376
        },
        "outputId": "f470a362-84c0-4098-9a44-fcde29e0e5ce"
      },
      "source": [
        "MadeWordCloud('MBA','Preferred_Qualifications')"
      ],
      "execution_count": 88,
      "outputs": [
        {
          "output_type": "display_data",
          "data": {
            "image/png": "[encoded data removed]",
            "text/plain": [
              "<Figure size 842.4x595.44 with 1 Axes>"
            ]
          },
          "metadata": {
            "tags": []
          }
        }
      ]
    },
    {
      "cell_type": "markdown",
      "metadata": {
        "id": "Wl2ONnf4csMq",
        "colab_type": "text"
      },
      "source": [
        "OK, so I finally see some criteria here:\n",
        "\n",
        "Soft skills : Management/Organizational\n",
        "Characteristics : Strategic/Independent/Changing environment\n",
        "\n",
        "Good to have : Project/interest of technology"
      ]
    },
    {
      "cell_type": "markdown",
      "metadata": {
        "id": "LvZKp39Rc4dm",
        "colab_type": "text"
      },
      "source": [
        "**How about the languages**"
      ]
    },
    {
      "cell_type": "code",
      "metadata": {
        "id": "GFqCTyrUco3s",
        "colab_type": "code",
        "colab": {
          "base_uri": "https://localhost:8080/",
          "height": 54
        },
        "outputId": "c72a5237-ed19-43bb-d1de-f0709f54ed86"
      },
      "source": [
        "Languages = dict((x,0) for x in Programming_Languages)\n",
        "for i in Languages:\n",
        "    x = df_MBA['Minimum_Qualifications'].str.contains(i).sum()\n",
        "    if i in Languages:\n",
        "        Languages[i] = x\n",
        "        \n",
        "print(Languages)"
      ],
      "execution_count": 89,
      "outputs": [
        {
          "output_type": "stream",
          "text": [
            "{'Python': 0, 'Java ': 0, 'C#': 0, 'PHP': 0, 'Javascript': 0, 'Ruby': 0, 'Perl': 0, 'SQL': 0, 'Go ': 0}\n"
          ],
          "name": "stdout"
        }
      ]
    },
    {
      "cell_type": "code",
      "metadata": {
        "id": "vT3u4zS_c-aX",
        "colab_type": "code",
        "colab": {
          "base_uri": "https://localhost:8080/",
          "height": 54
        },
        "outputId": "5bb134ec-fad2-492a-d886-e8b696dc2aaa"
      },
      "source": [
        "Languages = dict((x,0) for x in Programming_Languages)\n",
        "for i in Languages:\n",
        "    x = df_MBA['Preferred_Qualifications'].str.contains(i).sum()\n",
        "    if i in Languages:\n",
        "        Languages[i] = x\n",
        "        \n",
        "print(Languages)"
      ],
      "execution_count": 90,
      "outputs": [
        {
          "output_type": "stream",
          "text": [
            "{'Python': 0, 'Java ': 0, 'C#': 0, 'PHP': 0, 'Javascript': 0, 'Ruby': 0, 'Perl': 0, 'SQL': 0, 'Go ': 0}\n"
          ],
          "name": "stdout"
        }
      ]
    },
    {
      "cell_type": "code",
      "metadata": {
        "id": "hSSn4CvudAjp",
        "colab_type": "code",
        "colab": {
          "base_uri": "https://localhost:8080/",
          "height": 532
        },
        "outputId": "266db886-fd89-4cbd-9871-4f5498c4b6ea"
      },
      "source": [
        "sns.countplot('Minimum_years_experience',data=df_MBA)\n",
        "plt.suptitle('Minimum work experience')"
      ],
      "execution_count": 91,
      "outputs": [
        {
          "output_type": "execute_result",
          "data": {
            "text/plain": [
              "Text(0.5, 0.98, 'Minimum work experience')"
            ]
          },
          "metadata": {
            "tags": []
          },
          "execution_count": 91
        },
        {
          "output_type": "display_data",
          "data": {
            "image/png": "[encoded data removed]",
            "text/plain": [
              "<Figure size 842.4x595.44 with 1 Axes>"
            ]
          },
          "metadata": {
            "tags": []
          }
        }
      ]
    },
    {
      "cell_type": "markdown",
      "metadata": {
        "id": "-Y005VpWdIcZ",
        "colab_type": "text"
      },
      "source": [
        "We can see that since it's MBA intern positions, there is no need for work experience\n",
        "\n",
        "**Sales**"
      ]
    },
    {
      "cell_type": "code",
      "metadata": {
        "id": "X5_-o8oedDls",
        "colab_type": "code",
        "colab": {}
      },
      "source": [
        "df_Sales = df.loc[df.Title.str.contains('Sales').fillna(False)]"
      ],
      "execution_count": 92,
      "outputs": []
    },
    {
      "cell_type": "code",
      "metadata": {
        "id": "uIwY6Dh0dN-Z",
        "colab_type": "code",
        "colab": {
          "base_uri": "https://localhost:8080/",
          "height": 204
        },
        "outputId": "336f384f-37d8-44c8-d020-09d3ddc86ecc"
      },
      "source": [
        "df_Sales.Category.value_counts()"
      ],
      "execution_count": 93,
      "outputs": [
        {
          "output_type": "execute_result",
          "data": {
            "text/plain": [
              "Sales & Account Management      83\n",
              "Technical Solutions             12\n",
              "Sales Operations                12\n",
              "Product & Customer Support      11\n",
              "Partnerships                    8 \n",
              "Business Strategy               3 \n",
              "Legal & Government Relations    2 \n",
              "Program Management              2 \n",
              "People Operations               1 \n",
              "Marketing & Communications      1 \n",
              "Name: Category, dtype: int64"
            ]
          },
          "metadata": {
            "tags": []
          },
          "execution_count": 93
        }
      ]
    },
    {
      "cell_type": "code",
      "metadata": {
        "id": "Xah9lMpvdQU1",
        "colab_type": "code",
        "colab": {
          "base_uri": "https://localhost:8080/",
          "height": 119
        },
        "outputId": "caf1e4f5-7b63-465a-ff66-a1a07ae04b0a"
      },
      "source": [
        "df_Sales.Country.value_counts()[:5]"
      ],
      "execution_count": 94,
      "outputs": [
        {
          "output_type": "execute_result",
          "data": {
            "text/plain": [
              " United States    48\n",
              " Ireland          26\n",
              " Germany          11\n",
              " Japan            7 \n",
              "Singapore         7 \n",
              "Name: Country, dtype: int64"
            ]
          },
          "metadata": {
            "tags": []
          },
          "execution_count": 94
        }
      ]
    },
    {
      "cell_type": "code",
      "metadata": {
        "id": "hRHlMcLKdTAn",
        "colab_type": "code",
        "colab": {
          "base_uri": "https://localhost:8080/",
          "height": 376
        },
        "outputId": "2cf5016b-9bd2-44a5-83d5-2779de6773fa"
      },
      "source": [
        "MadeWordCloud('Sales','Responsibilities')"
      ],
      "execution_count": 95,
      "outputs": [
        {
          "output_type": "display_data",
          "data": {
            "image/png": "[encoded data removed]",
            "text/plain": [
              "<Figure size 842.4x595.44 with 1 Axes>"
            ]
          },
          "metadata": {
            "tags": []
          }
        }
      ]
    },
    {
      "cell_type": "markdown",
      "metadata": {
        "id": "SNfV2yOodYjv",
        "colab_type": "text"
      },
      "source": [
        "There are a lot of words in this plot. However, I can still sum it up:\n",
        "\n",
        "Soft skills : Management/Plan\n",
        "Characteristics : Cross functional/Strategic\n",
        "\n",
        "Good to be familiar with : Product/\n",
        "Google Cloud Platform/Client/Partner/Develop"
      ]
    },
    {
      "cell_type": "code",
      "metadata": {
        "id": "681JO1rodVdn",
        "colab_type": "code",
        "colab": {
          "base_uri": "https://localhost:8080/",
          "height": 376
        },
        "outputId": "e8b9da7e-af6e-4fd6-c112-ccd08af007ec"
      },
      "source": [
        "MadeWordCloud('Sales','Minimum_Qualifications')"
      ],
      "execution_count": 96,
      "outputs": [
        {
          "output_type": "display_data",
          "data": {
            "image/png": "[encoded data removed]",
            "text/plain": [
              "<Figure size 842.4x595.44 with 1 Axes>"
            ]
          },
          "metadata": {
            "tags": []
          }
        }
      ]
    },
    {
      "cell_type": "markdown",
      "metadata": {
        "id": "NNvt4ReUdsxJ",
        "colab_type": "text"
      },
      "source": [
        "There are a lot of words in this plot. However, I can still sum it up:\n",
        "\n",
        "Degree : BA/BS/Bachelor\n",
        "\n",
        "Speaking : Fluentual/Idiomatically/English\n",
        "Characteristics : Experienced/Practical\n",
        "\n",
        "Good to be familiar with : Cloud computing"
      ]
    },
    {
      "cell_type": "code",
      "metadata": {
        "id": "WrK1hBS7doFp",
        "colab_type": "code",
        "colab": {
          "base_uri": "https://localhost:8080/",
          "height": 376
        },
        "outputId": "4fedd478-3821-4178-d69b-8f81e264bf5d"
      },
      "source": [
        "MadeWordCloud('Sales','Preferred_Qualifications')"
      ],
      "execution_count": 97,
      "outputs": [
        {
          "output_type": "display_data",
          "data": {
            "image/png": "[encoded data removed]",
            "text/plain": [
              "<Figure size 842.4x595.44 with 1 Axes>"
            ]
          },
          "metadata": {
            "tags": []
          }
        }
      ]
    },
    {
      "cell_type": "markdown",
      "metadata": {
        "id": "RaX-rctld4H-",
        "colab_type": "text"
      },
      "source": [
        "There are a lot of words in this plot. However, I can still sum it up:\n",
        "\n",
        "Skills : Project Management\n",
        "\n",
        "Characteristics : Fast Paced/Demonstrated/Cross functional/Effectively/Experienced\n",
        "Good to be familiar with : PaaS/IaaS/Big Data/Google Cloud/Computer Science\n",
        "\n",
        "Now, let's talk about the languages"
      ]
    },
    {
      "cell_type": "code",
      "metadata": {
        "id": "x10EJNsvd1u0",
        "colab_type": "code",
        "colab": {
          "base_uri": "https://localhost:8080/",
          "height": 54
        },
        "outputId": "1030d177-aa67-4114-9a59-5ac019043b3a"
      },
      "source": [
        "Languages = dict((x,0) for x in Programming_Languages)\n",
        "for i in Languages:\n",
        "    x = df_Sales['Minimum_Qualifications'].str.contains(i).sum()\n",
        "    if i in Languages:\n",
        "        Languages[i] = x\n",
        "        \n",
        "print(Languages)"
      ],
      "execution_count": 98,
      "outputs": [
        {
          "output_type": "stream",
          "text": [
            "{'Python': 0, 'Java ': 0, 'C#': 0, 'PHP': 0, 'Javascript': 0, 'Ruby': 0, 'Perl': 0, 'SQL': 6, 'Go ': 0}\n"
          ],
          "name": "stdout"
        }
      ]
    },
    {
      "cell_type": "code",
      "metadata": {
        "id": "r7hkQm6GeWep",
        "colab_type": "code",
        "colab": {
          "base_uri": "https://localhost:8080/",
          "height": 54
        },
        "outputId": "8747e6e6-7b2a-4030-826a-5ecddbfcc7fd"
      },
      "source": [
        "Languages = dict((x,0) for x in Programming_Languages)\n",
        "for i in Languages:\n",
        "    x = df_Sales['Preferred_Qualifications'].str.contains(i).sum()\n",
        "    if i in Languages:\n",
        "        Languages[i] = x\n",
        "        \n",
        "print(Languages)"
      ],
      "execution_count": 99,
      "outputs": [
        {
          "output_type": "stream",
          "text": [
            "{'Python': 2, 'Java ': 2, 'C#': 0, 'PHP': 0, 'Javascript': 0, 'Ruby': 2, 'Perl': 0, 'SQL': 3, 'Go ': 0}\n"
          ],
          "name": "stdout"
        }
      ]
    },
    {
      "cell_type": "markdown",
      "metadata": {
        "id": "G0pcRJ7pebAx",
        "colab_type": "text"
      },
      "source": [
        "As I expected, some of the sales need to know SQL. And since some sales are in techical department, they need to know some other languages."
      ]
    },
    {
      "cell_type": "code",
      "metadata": {
        "id": "smW_Gu9MeZa9",
        "colab_type": "code",
        "colab": {
          "base_uri": "https://localhost:8080/",
          "height": 532
        },
        "outputId": "8e45d4a8-355b-48e6-a488-8a5318d51890"
      },
      "source": [
        "sns.countplot('Minimum_years_experience',data=df_Sales)\n",
        "plt.suptitle('Minimum work experience')"
      ],
      "execution_count": 100,
      "outputs": [
        {
          "output_type": "execute_result",
          "data": {
            "text/plain": [
              "Text(0.5, 0.98, 'Minimum work experience')"
            ]
          },
          "metadata": {
            "tags": []
          },
          "execution_count": 100
        },
        {
          "output_type": "display_data",
          "data": {
            "image/png": "[encoded data removed]",
            "text/plain": [
              "<Figure size 842.4x595.44 with 1 Axes>"
            ]
          },
          "metadata": {
            "tags": []
          }
        }
      ]
    },
    {
      "cell_type": "markdown",
      "metadata": {
        "id": "5J6hMBPBeiKS",
        "colab_type": "text"
      },
      "source": [
        "Still, most of the positions didn't mention work experience required. However, we can see that there are more senior sales positions in Google that requrie more than 5 years experience.\n",
        "\n",
        "\n",
        "**Microsoft Office**\n",
        "\n",
        "I just came up with this question. Do Google put Microsoft Office in their requirements? Some people told me that Microsoft Office is so basic that I should not put them in my LinkedIn Skills. However, a lot of company still mention it in their position requirement. Let's see if Google do it or not."
      ]
    },
    {
      "cell_type": "code",
      "metadata": {
        "id": "P112GcYIeenR",
        "colab_type": "code",
        "colab": {
          "base_uri": "https://localhost:8080/",
          "height": 34
        },
        "outputId": "38fa3abd-2f0c-4963-def0-2a77017adac9"
      },
      "source": [
        "Microsoft_Office = ['Excel','Powerpoint','Word','Microsoft']\n",
        "\n",
        "MO = dict((x,0) for x in Microsoft_Office)\n",
        "for i in MO:\n",
        "    x = df['Minimum_Qualifications'].str.contains(i).sum()\n",
        "    if i in Microsoft_Office:\n",
        "        MO[i] = x\n",
        "        \n",
        "print(MO)"
      ],
      "execution_count": 101,
      "outputs": [
        {
          "output_type": "stream",
          "text": [
            "{'Excel': 0, 'Powerpoint': 0, 'Word': 5, 'Microsoft': 0}\n"
          ],
          "name": "stdout"
        }
      ]
    },
    {
      "cell_type": "markdown",
      "metadata": {
        "id": "I3SajZkxevne",
        "colab_type": "text"
      },
      "source": [
        "Cool, so Google generally agree with the idea that Microsoft Office is basic. They only mention Word. I'l say that there is no need to mention it in the requirements.\n",
        "\n",
        "**Data Visualization Tools**\n",
        "\n",
        "I wonder if Google has a preference about the data visualization. There are some leaders in the field, like Tableau, Power BI, Qlik, and Google Visual Studio. Let me check if these are in the minimum requirements and preference requirements."
      ]
    },
    {
      "cell_type": "code",
      "metadata": {
        "id": "b2YdDA73esTa",
        "colab_type": "code",
        "colab": {
          "base_uri": "https://localhost:8080/",
          "height": 54
        },
        "outputId": "5a18d8fc-2acf-4267-b4fa-28975258d5a4"
      },
      "source": [
        "DV_Tools = ['Tableau','Power BI','Qlik','Data Studio','Google Analytics','GA']\n",
        "\n",
        "DV = dict((x,0) for x in DV_Tools)\n",
        "for i in DV:\n",
        "    x = df['Minimum_Qualifications'].str.contains(i).sum()\n",
        "    if i in DV_Tools:\n",
        "        DV[i] = x\n",
        "        \n",
        "print(DV)"
      ],
      "execution_count": 102,
      "outputs": [
        {
          "output_type": "stream",
          "text": [
            "{'Tableau': 8, 'Power BI': 0, 'Qlik': 0, 'Data Studio': 1, 'Google Analytics': 5, 'GA': 7}\n"
          ],
          "name": "stdout"
        }
      ]
    },
    {
      "cell_type": "markdown",
      "metadata": {
        "id": "0UGKASB9e5kD",
        "colab_type": "text"
      },
      "source": [
        "It seems that even though Google has Visual Studio made by themselves, Tableau is still taking lead in the field.\n",
        "\n",
        "**Statistical Analysis Tools**\n",
        "\n",
        "I wonder if Google do prefer any of the statistical analysis tools. In my acknowledge, there are SPSS, R, Matlab, Excel, Google Spreadsheet, and SAS in this field."
      ]
    },
    {
      "cell_type": "code",
      "metadata": {
        "id": "uOT3QUtae2vL",
        "colab_type": "code",
        "colab": {
          "base_uri": "https://localhost:8080/",
          "height": 34
        },
        "outputId": "4196d2df-e93b-400b-97e5-2fdaa6ba2101"
      },
      "source": [
        "SA_Tools = ['SPSS','R ','Matlab','Excel','Spreadsheet','SAS']\n",
        "\n",
        "SA = dict((x,0) for x in SA_Tools)\n",
        "for i in SA:\n",
        "    x = df['Minimum_Qualifications'].str.contains(i).sum()\n",
        "    if i in SA_Tools:\n",
        "        SA[i] = x\n",
        "        \n",
        "print(SA)"
      ],
      "execution_count": 103,
      "outputs": [
        {
          "output_type": "stream",
          "text": [
            "{'SPSS': 6, 'R ': 79, 'Matlab': 4, 'Excel': 0, 'Spreadsheet': 0, 'SAS': 18}\n"
          ],
          "name": "stdout"
        }
      ]
    },
    {
      "cell_type": "markdown",
      "metadata": {
        "id": "n-iXw9oNfDhg",
        "colab_type": "text"
      },
      "source": [
        "So, there are a variety of preference of statistical analysis tools in Google. However, I think most of them prefer R and SAS instead. Still, I'm surprised to see that they do mention SPSS in the requriement.\n",
        "\n",
        "**Let's see the positions in the US**"
      ]
    },
    {
      "cell_type": "code",
      "metadata": {
        "id": "yEeCL38lfBDK",
        "colab_type": "code",
        "colab": {}
      },
      "source": [
        "df_US = df.loc[df.Country == ' United States']"
      ],
      "execution_count": 104,
      "outputs": []
    },
    {
      "cell_type": "code",
      "metadata": {
        "id": "ImILmNlIfQcY",
        "colab_type": "code",
        "colab": {}
      },
      "source": [
        "df_US_Type = df_US.Category.value_counts()\n",
        "df_US_Type = df_US_Type.rename_axis('Type').reset_index(name='counts')"
      ],
      "execution_count": 105,
      "outputs": []
    },
    {
      "cell_type": "code",
      "metadata": {
        "id": "cPz6z4MZfhRR",
        "colab_type": "code",
        "colab": {
          "base_uri": "https://localhost:8080/",
          "height": 105
        },
        "outputId": "2c25a1a2-9325-44c1-fccd-9d424062dfbf"
      },
      "source": [
        "!pip install squarify"
      ],
      "execution_count": 107,
      "outputs": [
        {
          "output_type": "stream",
          "text": [
            "Collecting squarify\n",
            "  Downloading https://files.pythonhosted.org/packages/0b/2b/2e77c35326efec19819cd1d729540d4d235e6c2a3f37658288a363a67da5/squarify-0.4.3-py3-none-any.whl\n",
            "Installing collected packages: squarify\n",
            "Successfully installed squarify-0.4.3\n"
          ],
          "name": "stdout"
        }
      ]
    },
    {
      "cell_type": "code",
      "metadata": {
        "id": "C19oG6R6fTwC",
        "colab_type": "code",
        "colab": {
          "base_uri": "https://localhost:8080/",
          "height": 182
        },
        "outputId": "e152d17a-8093-426e-aa48-9993d2936c8c"
      },
      "source": [
        "import squarify\n",
        "import matplotlib\n",
        "matplotlib.rcParams.update({'font.size': 8})\n",
        "cmap = matplotlib.cm.Blues\n",
        "norm = matplotlib.colors.Normalize(vmin=min(df_US_Type.counts), vmax=max(df_US_Type.counts))\n",
        "colors = [cmap(norm(value)) for value in df_US_Type.counts]\n",
        "fig = plt.gcf()\n",
        "ax = fig.add_subplot()\n",
        "fig.set_size_inches(24, 6)\n",
        "squarify.plot(sizes=df_US_Type['counts'], label=df_US_Type['Type'], alpha=.8, color=colors)\n",
        "plt.title('Type of positions',fontsize=20,fontweight=\"bold\")\n",
        "plt.axis('off')\n",
        "plt.show()"
      ],
      "execution_count": 108,
      "outputs": [
        {
          "output_type": "display_data",
          "data": {
            "image/png": "[encoded data removed]",
            "text/plain": [
              "<Figure size 1728x432 with 1 Axes>"
            ]
          },
          "metadata": {
            "tags": []
          }
        }
      ]
    },
    {
      "cell_type": "markdown",
      "metadata": {
        "id": "UK3xXq4Xfz3l",
        "colab_type": "text"
      },
      "source": [
        "**PMs (Product Manager, Project Manager, and Program Manager**\n",
        "\n",
        "I wonder how is the distribution of PMs in Google. In my opinion, Project Manager might be the most of them since project management is important in each position category."
      ]
    },
    {
      "cell_type": "code",
      "metadata": {
        "id": "BWq1fZcxfYJ6",
        "colab_type": "code",
        "colab": {
          "base_uri": "https://localhost:8080/",
          "height": 34
        },
        "outputId": "1b2cbb5d-ca43-4ba7-8d82-09ddc408512a"
      },
      "source": [
        "PM_positions = ['Product Manager','Project Manager','Program Manager']\n",
        "\n",
        "PM = dict((x,0) for x in PM_positions)\n",
        "for i in PM:\n",
        "    x = df['Title'].str.contains(i).sum()\n",
        "    if i in PM_positions:\n",
        "        PM[i] = x\n",
        "        \n",
        "print(PM)"
      ],
      "execution_count": 109,
      "outputs": [
        {
          "output_type": "stream",
          "text": [
            "{'Product Manager': 1, 'Project Manager': 7, 'Program Manager': 41}\n"
          ],
          "name": "stdout"
        }
      ]
    },
    {
      "cell_type": "markdown",
      "metadata": {
        "id": "XBt5JbX4f9i8",
        "colab_type": "text"
      },
      "source": [
        "Well, different from my expectation, it turns out that most of them are program managers. It does make sense because Google is more like a Software as a Service company in many aspects.\n",
        "However, I still want to see if Jira, scrum, and agile, those project management phrases are mentioned or not."
      ]
    },
    {
      "cell_type": "code",
      "metadata": {
        "id": "NKWbU11df6U-",
        "colab_type": "code",
        "colab": {
          "base_uri": "https://localhost:8080/",
          "height": 34
        },
        "outputId": "77717f9b-108e-46e1-fd6f-e70d31a57280"
      },
      "source": [
        "Project_Management_words = ['Jira','scrum','agile']\n",
        "\n",
        "Project_Management = dict((x,0) for x in Project_Management_words)\n",
        "for i in Project_Management:\n",
        "    x = df['Minimum_Qualifications'].str.contains(i).sum()\n",
        "    if i in Project_Management_words:\n",
        "        Project_Management[i] = x\n",
        "        \n",
        "print(Project_Management)"
      ],
      "execution_count": 110,
      "outputs": [
        {
          "output_type": "stream",
          "text": [
            "{'Jira': 0, 'scrum': 0, 'agile': 16}\n"
          ],
          "name": "stdout"
        }
      ]
    },
    {
      "cell_type": "code",
      "metadata": {
        "id": "nbKpoolDgBD4",
        "colab_type": "code",
        "colab": {
          "base_uri": "https://localhost:8080/",
          "height": 34
        },
        "outputId": "f5805b92-e1bc-4c05-bbc1-038d0262fc1c"
      },
      "source": [
        "Project_Management = dict((x,0) for x in Project_Management_words)\n",
        "for i in Project_Management:\n",
        "    x = df['Preferred_Qualifications'].str.contains(i).sum()\n",
        "    if i in Project_Management_words:\n",
        "        Project_Management[i] = x\n",
        "        \n",
        "print(Project_Management)"
      ],
      "execution_count": 111,
      "outputs": [
        {
          "output_type": "stream",
          "text": [
            "{'Jira': 0, 'scrum': 0, 'agile': 10}\n"
          ],
          "name": "stdout"
        }
      ]
    },
    {
      "cell_type": "markdown",
      "metadata": {
        "id": "a1TR24k9gITh",
        "colab_type": "text"
      },
      "source": [
        "Well, obvious, I think Agile is important to many roles, and Google doesn't have specific Project Management tools preference.\n",
        "\n",
        "**Pivot tables**"
      ]
    },
    {
      "cell_type": "code",
      "metadata": {
        "id": "rfPyo5aBgDt7",
        "colab_type": "code",
        "colab": {}
      },
      "source": [
        "df_groupby_country_category = df.groupby(['Country','Category'])['Category'].count()"
      ],
      "execution_count": 112,
      "outputs": []
    },
    {
      "cell_type": "code",
      "metadata": {
        "id": "B2vKuuYpgPL3",
        "colab_type": "code",
        "colab": {
          "base_uri": "https://localhost:8080/",
          "height": 425
        },
        "outputId": "1dd96f40-5260-4697-ce74-939172da29e4"
      },
      "source": [
        "df_groupby_country_category.loc[' United States']"
      ],
      "execution_count": 113,
      "outputs": [
        {
          "output_type": "execute_result",
          "data": {
            "text/plain": [
              "Category\n",
              "Administrative                      7 \n",
              "Business Strategy                   75\n",
              "Data Center & Network               2 \n",
              "Developer Relations                 2 \n",
              "Finance                             79\n",
              "Hardware Engineering                16\n",
              "IT & Data Management                1 \n",
              "Legal & Government Relations        15\n",
              "Manufacturing & Supply Chain        4 \n",
              "Marketing & Communications          88\n",
              "Partnerships                        28\n",
              "People Operations                   56\n",
              "Product & Customer Support          18\n",
              "Program Management                  46\n",
              "Real Estate & Workplace Services    14\n",
              "Sales & Account Management          42\n",
              "Sales Operations                    12\n",
              "Software Engineering                8 \n",
              "Technical Infrastructure            7 \n",
              "Technical Solutions                 17\n",
              "Technical Writing                   5 \n",
              "User Experience & Design            65\n",
              "Name: Category, dtype: int64"
            ]
          },
          "metadata": {
            "tags": []
          },
          "execution_count": 113
        }
      ]
    },
    {
      "cell_type": "markdown",
      "metadata": {
        "id": "u9BEcilUgUKw",
        "colab_type": "text"
      },
      "source": [
        "In this way, I can more thoroughly see the distribution of positions in each country."
      ]
    },
    {
      "cell_type": "code",
      "metadata": {
        "id": "PhBiWsC0gRad",
        "colab_type": "code",
        "colab": {}
      },
      "source": [
        "category_country = df.pivot_table(index=['Country','Category'],values='Minimum_years_experience',aggfunc='median')"
      ],
      "execution_count": 115,
      "outputs": []
    },
    {
      "cell_type": "code",
      "metadata": {
        "id": "MOjaBvUjgXP_",
        "colab_type": "code",
        "colab": {
          "base_uri": "https://localhost:8080/",
          "height": 762
        },
        "outputId": "de21e4f8-0ee8-46a7-cbfa-33c81a875c49"
      },
      "source": [
        "category_country.loc[' United States']"
      ],
      "execution_count": 116,
      "outputs": [
        {
          "output_type": "execute_result",
          "data": {
            "text/html": [
              "<div>\n",
              "<style scoped>\n",
              "    .dataframe tbody tr th:only-of-type {\n",
              "        vertical-align: middle;\n",
              "    }\n",
              "\n",
              "    .dataframe tbody tr th {\n",
              "        vertical-align: top;\n",
              "    }\n",
              "\n",
              "    .dataframe thead th {\n",
              "        text-align: right;\n",
              "    }\n",
              "</style>\n",
              "<table border=\"1\" class=\"dataframe\">\n",
              "  <thead>\n",
              "    <tr style=\"text-align: right;\">\n",
              "      <th></th>\n",
              "      <th>Minimum_years_experience</th>\n",
              "    </tr>\n",
              "    <tr>\n",
              "      <th>Category</th>\n",
              "      <th></th>\n",
              "    </tr>\n",
              "  </thead>\n",
              "  <tbody>\n",
              "    <tr>\n",
              "      <th>Administrative</th>\n",
              "      <td>0.0</td>\n",
              "    </tr>\n",
              "    <tr>\n",
              "      <th>Business Strategy</th>\n",
              "      <td>2.0</td>\n",
              "    </tr>\n",
              "    <tr>\n",
              "      <th>Data Center &amp; Network</th>\n",
              "      <td>7.5</td>\n",
              "    </tr>\n",
              "    <tr>\n",
              "      <th>Developer Relations</th>\n",
              "      <td>0.0</td>\n",
              "    </tr>\n",
              "    <tr>\n",
              "      <th>Finance</th>\n",
              "      <td>4.0</td>\n",
              "    </tr>\n",
              "    <tr>\n",
              "      <th>Hardware Engineering</th>\n",
              "      <td>5.0</td>\n",
              "    </tr>\n",
              "    <tr>\n",
              "      <th>IT &amp; Data Management</th>\n",
              "      <td>2.0</td>\n",
              "    </tr>\n",
              "    <tr>\n",
              "      <th>Legal &amp; Government Relations</th>\n",
              "      <td>4.0</td>\n",
              "    </tr>\n",
              "    <tr>\n",
              "      <th>Manufacturing &amp; Supply Chain</th>\n",
              "      <td>6.5</td>\n",
              "    </tr>\n",
              "    <tr>\n",
              "      <th>Marketing &amp; Communications</th>\n",
              "      <td>5.0</td>\n",
              "    </tr>\n",
              "    <tr>\n",
              "      <th>Partnerships</th>\n",
              "      <td>5.0</td>\n",
              "    </tr>\n",
              "    <tr>\n",
              "      <th>People Operations</th>\n",
              "      <td>3.5</td>\n",
              "    </tr>\n",
              "    <tr>\n",
              "      <th>Product &amp; Customer Support</th>\n",
              "      <td>4.5</td>\n",
              "    </tr>\n",
              "    <tr>\n",
              "      <th>Program Management</th>\n",
              "      <td>5.0</td>\n",
              "    </tr>\n",
              "    <tr>\n",
              "      <th>Real Estate &amp; Workplace Services</th>\n",
              "      <td>5.0</td>\n",
              "    </tr>\n",
              "    <tr>\n",
              "      <th>Sales &amp; Account Management</th>\n",
              "      <td>5.0</td>\n",
              "    </tr>\n",
              "    <tr>\n",
              "      <th>Sales Operations</th>\n",
              "      <td>4.0</td>\n",
              "    </tr>\n",
              "    <tr>\n",
              "      <th>Software Engineering</th>\n",
              "      <td>0.5</td>\n",
              "    </tr>\n",
              "    <tr>\n",
              "      <th>Technical Infrastructure</th>\n",
              "      <td>2.0</td>\n",
              "    </tr>\n",
              "    <tr>\n",
              "      <th>Technical Solutions</th>\n",
              "      <td>0.0</td>\n",
              "    </tr>\n",
              "    <tr>\n",
              "      <th>Technical Writing</th>\n",
              "      <td>0.0</td>\n",
              "    </tr>\n",
              "    <tr>\n",
              "      <th>User Experience &amp; Design</th>\n",
              "      <td>3.0</td>\n",
              "    </tr>\n",
              "  </tbody>\n",
              "</table>\n",
              "</div>"
            ],
            "text/plain": [
              "                                  Minimum_years_experience\n",
              "Category                                                  \n",
              "Administrative                    0.0                     \n",
              "Business Strategy                 2.0                     \n",
              "Data Center & Network             7.5                     \n",
              "Developer Relations               0.0                     \n",
              "Finance                           4.0                     \n",
              "Hardware Engineering              5.0                     \n",
              "IT & Data Management              2.0                     \n",
              "Legal & Government Relations      4.0                     \n",
              "Manufacturing & Supply Chain      6.5                     \n",
              "Marketing & Communications        5.0                     \n",
              "Partnerships                      5.0                     \n",
              "People Operations                 3.5                     \n",
              "Product & Customer Support        4.5                     \n",
              "Program Management                5.0                     \n",
              "Real Estate & Workplace Services  5.0                     \n",
              "Sales & Account Management        5.0                     \n",
              "Sales Operations                  4.0                     \n",
              "Software Engineering              0.5                     \n",
              "Technical Infrastructure          2.0                     \n",
              "Technical Solutions               0.0                     \n",
              "Technical Writing                 0.0                     \n",
              "User Experience & Design          3.0                     "
            ]
          },
          "metadata": {
            "tags": []
          },
          "execution_count": 116
        }
      ]
    },
    {
      "cell_type": "code",
      "metadata": {
        "id": "Fhyy14RXgtMh",
        "colab_type": "code",
        "colab": {
          "base_uri": "https://localhost:8080/",
          "height": 452
        },
        "outputId": "b62dc6db-8700-464f-c7d0-ff4aa1d01cfc"
      },
      "source": [
        "category_country.loc['Singapore']"
      ],
      "execution_count": 117,
      "outputs": [
        {
          "output_type": "execute_result",
          "data": {
            "text/html": [
              "<div>\n",
              "<style scoped>\n",
              "    .dataframe tbody tr th:only-of-type {\n",
              "        vertical-align: middle;\n",
              "    }\n",
              "\n",
              "    .dataframe tbody tr th {\n",
              "        vertical-align: top;\n",
              "    }\n",
              "\n",
              "    .dataframe thead th {\n",
              "        text-align: right;\n",
              "    }\n",
              "</style>\n",
              "<table border=\"1\" class=\"dataframe\">\n",
              "  <thead>\n",
              "    <tr style=\"text-align: right;\">\n",
              "      <th></th>\n",
              "      <th>Minimum_years_experience</th>\n",
              "    </tr>\n",
              "    <tr>\n",
              "      <th>Category</th>\n",
              "      <th></th>\n",
              "    </tr>\n",
              "  </thead>\n",
              "  <tbody>\n",
              "    <tr>\n",
              "      <th>Administrative</th>\n",
              "      <td>0.0</td>\n",
              "    </tr>\n",
              "    <tr>\n",
              "      <th>Business Strategy</th>\n",
              "      <td>3.0</td>\n",
              "    </tr>\n",
              "    <tr>\n",
              "      <th>Finance</th>\n",
              "      <td>2.0</td>\n",
              "    </tr>\n",
              "    <tr>\n",
              "      <th>Legal &amp; Government Relations</th>\n",
              "      <td>6.0</td>\n",
              "    </tr>\n",
              "    <tr>\n",
              "      <th>Partnerships</th>\n",
              "      <td>1.5</td>\n",
              "    </tr>\n",
              "    <tr>\n",
              "      <th>People Operations</th>\n",
              "      <td>3.0</td>\n",
              "    </tr>\n",
              "    <tr>\n",
              "      <th>Product &amp; Customer Support</th>\n",
              "      <td>0.0</td>\n",
              "    </tr>\n",
              "    <tr>\n",
              "      <th>Program Management</th>\n",
              "      <td>5.0</td>\n",
              "    </tr>\n",
              "    <tr>\n",
              "      <th>Sales &amp; Account Management</th>\n",
              "      <td>5.0</td>\n",
              "    </tr>\n",
              "    <tr>\n",
              "      <th>Sales Operations</th>\n",
              "      <td>2.0</td>\n",
              "    </tr>\n",
              "    <tr>\n",
              "      <th>Technical Solutions</th>\n",
              "      <td>5.0</td>\n",
              "    </tr>\n",
              "    <tr>\n",
              "      <th>User Experience &amp; Design</th>\n",
              "      <td>2.5</td>\n",
              "    </tr>\n",
              "  </tbody>\n",
              "</table>\n",
              "</div>"
            ],
            "text/plain": [
              "                              Minimum_years_experience\n",
              "Category                                              \n",
              "Administrative                0.0                     \n",
              "Business Strategy             3.0                     \n",
              "Finance                       2.0                     \n",
              "Legal & Government Relations  6.0                     \n",
              "Partnerships                  1.5                     \n",
              "People Operations             3.0                     \n",
              "Product & Customer Support    0.0                     \n",
              "Program Management            5.0                     \n",
              "Sales & Account Management    5.0                     \n",
              "Sales Operations              2.0                     \n",
              "Technical Solutions           5.0                     \n",
              "User Experience & Design      2.5                     "
            ]
          },
          "metadata": {
            "tags": []
          },
          "execution_count": 117
        }
      ]
    },
    {
      "cell_type": "code",
      "metadata": {
        "id": "Z7_3V5MbgvXT",
        "colab_type": "code",
        "colab": {
          "base_uri": "https://localhost:8080/",
          "height": 390
        },
        "outputId": "25666fa1-e4c0-4c79-ae71-8e57b7b65d3a"
      },
      "source": [
        "category_country.loc[' Taiwan']"
      ],
      "execution_count": 118,
      "outputs": [
        {
          "output_type": "execute_result",
          "data": {
            "text/html": [
              "<div>\n",
              "<style scoped>\n",
              "    .dataframe tbody tr th:only-of-type {\n",
              "        vertical-align: middle;\n",
              "    }\n",
              "\n",
              "    .dataframe tbody tr th {\n",
              "        vertical-align: top;\n",
              "    }\n",
              "\n",
              "    .dataframe thead th {\n",
              "        text-align: right;\n",
              "    }\n",
              "</style>\n",
              "<table border=\"1\" class=\"dataframe\">\n",
              "  <thead>\n",
              "    <tr style=\"text-align: right;\">\n",
              "      <th></th>\n",
              "      <th>Minimum_years_experience</th>\n",
              "    </tr>\n",
              "    <tr>\n",
              "      <th>Category</th>\n",
              "      <th></th>\n",
              "    </tr>\n",
              "  </thead>\n",
              "  <tbody>\n",
              "    <tr>\n",
              "      <th>Administrative</th>\n",
              "      <td>0.0</td>\n",
              "    </tr>\n",
              "    <tr>\n",
              "      <th>Finance</th>\n",
              "      <td>8.0</td>\n",
              "    </tr>\n",
              "    <tr>\n",
              "      <th>Hardware Engineering</th>\n",
              "      <td>5.0</td>\n",
              "    </tr>\n",
              "    <tr>\n",
              "      <th>Legal &amp; Government Relations</th>\n",
              "      <td>8.0</td>\n",
              "    </tr>\n",
              "    <tr>\n",
              "      <th>Manufacturing &amp; Supply Chain</th>\n",
              "      <td>5.5</td>\n",
              "    </tr>\n",
              "    <tr>\n",
              "      <th>People Operations</th>\n",
              "      <td>7.5</td>\n",
              "    </tr>\n",
              "    <tr>\n",
              "      <th>Program Management</th>\n",
              "      <td>3.0</td>\n",
              "    </tr>\n",
              "    <tr>\n",
              "      <th>Real Estate &amp; Workplace Services</th>\n",
              "      <td>8.0</td>\n",
              "    </tr>\n",
              "    <tr>\n",
              "      <th>Sales &amp; Account Management</th>\n",
              "      <td>4.0</td>\n",
              "    </tr>\n",
              "    <tr>\n",
              "      <th>Software Engineering</th>\n",
              "      <td>1.5</td>\n",
              "    </tr>\n",
              "  </tbody>\n",
              "</table>\n",
              "</div>"
            ],
            "text/plain": [
              "                                  Minimum_years_experience\n",
              "Category                                                  \n",
              "Administrative                    0.0                     \n",
              "Finance                           8.0                     \n",
              "Hardware Engineering              5.0                     \n",
              "Legal & Government Relations      8.0                     \n",
              "Manufacturing & Supply Chain      5.5                     \n",
              "People Operations                 7.5                     \n",
              "Program Management                3.0                     \n",
              "Real Estate & Workplace Services  8.0                     \n",
              "Sales & Account Management        4.0                     \n",
              "Software Engineering              1.5                     "
            ]
          },
          "metadata": {
            "tags": []
          },
          "execution_count": 118
        }
      ]
    },
    {
      "cell_type": "code",
      "metadata": {
        "id": "Xt9nR6xFgxFx",
        "colab_type": "code",
        "colab": {
          "base_uri": "https://localhost:8080/",
          "height": 390
        },
        "outputId": "beb6b139-6c01-42ff-c807-2be34ba911e4"
      },
      "source": [
        "category_country.loc[' India']"
      ],
      "execution_count": 119,
      "outputs": [
        {
          "output_type": "execute_result",
          "data": {
            "text/html": [
              "<div>\n",
              "<style scoped>\n",
              "    .dataframe tbody tr th:only-of-type {\n",
              "        vertical-align: middle;\n",
              "    }\n",
              "\n",
              "    .dataframe tbody tr th {\n",
              "        vertical-align: top;\n",
              "    }\n",
              "\n",
              "    .dataframe thead th {\n",
              "        text-align: right;\n",
              "    }\n",
              "</style>\n",
              "<table border=\"1\" class=\"dataframe\">\n",
              "  <thead>\n",
              "    <tr style=\"text-align: right;\">\n",
              "      <th></th>\n",
              "      <th>Minimum_years_experience</th>\n",
              "    </tr>\n",
              "    <tr>\n",
              "      <th>Category</th>\n",
              "      <th></th>\n",
              "    </tr>\n",
              "  </thead>\n",
              "  <tbody>\n",
              "    <tr>\n",
              "      <th>Marketing &amp; Communications</th>\n",
              "      <td>8.0</td>\n",
              "    </tr>\n",
              "    <tr>\n",
              "      <th>Partnerships</th>\n",
              "      <td>8.0</td>\n",
              "    </tr>\n",
              "    <tr>\n",
              "      <th>People Operations</th>\n",
              "      <td>5.0</td>\n",
              "    </tr>\n",
              "    <tr>\n",
              "      <th>Product &amp; Customer Support</th>\n",
              "      <td>6.0</td>\n",
              "    </tr>\n",
              "    <tr>\n",
              "      <th>Program Management</th>\n",
              "      <td>4.0</td>\n",
              "    </tr>\n",
              "    <tr>\n",
              "      <th>Sales &amp; Account Management</th>\n",
              "      <td>12.0</td>\n",
              "    </tr>\n",
              "    <tr>\n",
              "      <th>Sales Operations</th>\n",
              "      <td>8.0</td>\n",
              "    </tr>\n",
              "    <tr>\n",
              "      <th>Software Engineering</th>\n",
              "      <td>5.0</td>\n",
              "    </tr>\n",
              "    <tr>\n",
              "      <th>Technical Solutions</th>\n",
              "      <td>1.5</td>\n",
              "    </tr>\n",
              "    <tr>\n",
              "      <th>User Experience &amp; Design</th>\n",
              "      <td>8.0</td>\n",
              "    </tr>\n",
              "  </tbody>\n",
              "</table>\n",
              "</div>"
            ],
            "text/plain": [
              "                            Minimum_years_experience\n",
              "Category                                            \n",
              "Marketing & Communications  8.0                     \n",
              "Partnerships                8.0                     \n",
              "People Operations           5.0                     \n",
              "Product & Customer Support  6.0                     \n",
              "Program Management          4.0                     \n",
              "Sales & Account Management  12.0                    \n",
              "Sales Operations            8.0                     \n",
              "Software Engineering        5.0                     \n",
              "Technical Solutions         1.5                     \n",
              "User Experience & Design    8.0                     "
            ]
          },
          "metadata": {
            "tags": []
          },
          "execution_count": 119
        }
      ]
    },
    {
      "cell_type": "markdown",
      "metadata": {
        "id": "AUVBaBE3g3sf",
        "colab_type": "text"
      },
      "source": [
        "We can see that the people in Legal dept required more experience than other. And so does the Supply Chain dept in the US.\n",
        "\n",
        "**Job recommendation**\n",
        "\n",
        "I'm trying to use gensim to find cosine distance close between jobs\n",
        "\n"
      ]
    },
    {
      "cell_type": "markdown",
      "metadata": {
        "id": "20rhiNXVhJ2Z",
        "colab_type": "text"
      },
      "source": [
        "**Summary**\n",
        "\n",
        "**1. Application of this EDA**\n",
        "\n",
        "\n",
        "*   With str.contains and re.findall, I can \n",
        "\n",
        "extract some keywords and count appearance through the dataset after I browse it roughly by myself\n",
        "\n",
        "\n",
        "*   I can easily find some keywords with wordcloud, then dig deeper afterward\n",
        "\n",
        "*   This can be used on large data of social network posts or articles\n",
        "*   Maybe sentimental analysis\n",
        "\n",
        "**2. What I know about Google after the research**\n",
        "\n",
        "*   Basically, you need a bachelor or equivalent degree to get in Google, master and MBA can earn you a better position among the candidates\n",
        "*   Java and Python are three most important languages in Google, while SQL is also important to analysts and sales\n",
        "\n",
        "*   Knowing business and having good communication, management skills are great characteristic to get a job in Google\n",
        "\n",
        "*   Project management and agile methodologies might be preferred\n",
        "\n",
        "*   Tableau takes the lead of data visualization tools\n",
        "\n",
        "*   The data center in the states requires more experience than other department"
      ]
    },
    {
      "cell_type": "code",
      "metadata": {
        "id": "nrdjgWgwgzJj",
        "colab_type": "code",
        "colab": {}
      },
      "source": [
        ""
      ],
      "execution_count": null,
      "outputs": []
    }
  ]
}